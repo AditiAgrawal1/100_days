{
  "nbformat": 4,
  "nbformat_minor": 0,
  "metadata": {
    "colab": {
      "name": "100_days.ipynb",
      "provenance": [],
      "collapsed_sections": [],
      "authorship_tag": "ABX9TyMJ3RGzTPlNtx0fBlpOpK+i",
      "include_colab_link": true
    },
    "kernelspec": {
      "name": "python3",
      "display_name": "Python 3"
    },
    "language_info": {
      "name": "python"
    }
  },
  "cells": [
    {
      "cell_type": "markdown",
      "metadata": {
        "id": "view-in-github",
        "colab_type": "text"
      },
      "source": [
        "<a href=\"https://colab.research.google.com/github/AditiAgrawal1/100_days/blob/main/100_days.ipynb\" target=\"_parent\"><img src=\"https://colab.research.google.com/assets/colab-badge.svg\" alt=\"Open In Colab\"/></a>"
      ]
    },
    {
      "cell_type": "markdown",
      "source": [
        "### ***DAY 1***\n",
        "\n",
        "Problem 1: Day1 - Program to display Fibonacci Series.\n",
        "    \n",
        "    Input: How Many Terms do you want to Display: 10\n",
        "    Output: 0 1 1 2 3 5 8 13 21 34\n",
        ".............................................................\n",
        "\n",
        "\n"
      ],
      "metadata": {
        "id": "HC9bljG2_1V_"
      }
    },
    {
      "cell_type": "code",
      "source": [
        "def fibonacci_series(num):\n",
        "  if num==0:\n",
        "    result = []\n",
        "  elif num==1:\n",
        "    result = [0]\n",
        "  elif num>=2:\n",
        "    result = [0,1]\n",
        "    for x in range(num-2):\n",
        "      result.append(result[-1]+result[-2])\n",
        "  else:\n",
        "    result ='wrong input'\n",
        "  return result\n"
      ],
      "metadata": {
        "id": "SF2t3WYaAD39"
      },
      "execution_count": null,
      "outputs": []
    },
    {
      "cell_type": "code",
      "source": [
        "fibonacci_series(-1)"
      ],
      "metadata": {
        "colab": {
          "base_uri": "https://localhost:8080/",
          "height": 35
        },
        "id": "oospjoxhBRRJ",
        "outputId": "050b8cef-49ea-4d34-9fdc-0a7f24da8414"
      },
      "execution_count": null,
      "outputs": [
        {
          "output_type": "execute_result",
          "data": {
            "text/plain": [
              "'wrong input'"
            ],
            "application/vnd.google.colaboratory.intrinsic+json": {
              "type": "string"
            }
          },
          "metadata": {},
          "execution_count": 15
        }
      ]
    },
    {
      "cell_type": "markdown",
      "source": [
        "Problem 2: Day1 - Program to find Factorial of number.\n",
        "\n",
        "    Input: Enter a Number: 5\n",
        "    Output: 5! = 120\n",
        ".............................................................\n"
      ],
      "metadata": {
        "id": "a-l5lS3BAXdp"
      }
    },
    {
      "cell_type": "code",
      "source": [
        "\n",
        "def factorial(num):\n",
        "  if num>=1:\n",
        "    result = num*factorial(num-1) \n",
        "  elif num==0:\n",
        "    result = 1\n",
        "  elif num<0:\n",
        "    result = 'wrong input'\n",
        "  return result\n",
        "#   for x in range(1,num+1):\n",
        "#    result=result*x"
      ],
      "metadata": {
        "id": "XF4uswJ2DFbr"
      },
      "execution_count": null,
      "outputs": []
    },
    {
      "cell_type": "code",
      "source": [
        "factorial(0)"
      ],
      "metadata": {
        "colab": {
          "base_uri": "https://localhost:8080/"
        },
        "id": "srnro5JBDl3C",
        "outputId": "6123c226-19d0-4cd1-bf50-0f0b52b92da4"
      },
      "execution_count": null,
      "outputs": [
        {
          "output_type": "execute_result",
          "data": {
            "text/plain": [
              "1"
            ]
          },
          "metadata": {},
          "execution_count": 36
        }
      ]
    },
    {
      "cell_type": "markdown",
      "source": [
        "Problem 3: Day1 - Program to find HCF of numbers.\n",
        "\n",
        "    Input: Enter 1st Number: 5\n",
        "            Enter 2nd Number: 12\n",
        "    Output: HCF: 1\n",
        "............................................................."
      ],
      "metadata": {
        "id": "H_UCkmKgAY5K"
      }
    },
    {
      "cell_type": "code",
      "source": [
        "def HCF(num1,num2):\n",
        "  num1_factors=set()\n",
        "  num2_factors=set()\n",
        "  result=set()\n",
        "  for x in range(1,num1+1):\n",
        "    if num1%x==0:\n",
        "      num1_factors.add(x)\n",
        "  for x in range(1,num2+1):\n",
        "    if num2%x==0:\n",
        "      num2_factors.add(x)\n",
        "  \n",
        "  common_factor = num1_factors.intersection(num2_factors)\n",
        "  result = max(common_factor)\n",
        "  return result\n"
      ],
      "metadata": {
        "id": "XWJgkDSsEUnR"
      },
      "execution_count": null,
      "outputs": []
    },
    {
      "cell_type": "code",
      "source": [
        "HCF(5,12)"
      ],
      "metadata": {
        "colab": {
          "base_uri": "https://localhost:8080/"
        },
        "id": "l4Oz4IPgIPhw",
        "outputId": "5393b194-36b0-4a5f-9049-11a3bdecde52"
      },
      "execution_count": null,
      "outputs": [
        {
          "output_type": "execute_result",
          "data": {
            "text/plain": [
              "1"
            ]
          },
          "metadata": {},
          "execution_count": 30
        }
      ]
    },
    {
      "cell_type": "markdown",
      "source": [
        "\n",
        "\n",
        "Problem 4: Day1 - Program to find LCM of numbers.\n",
        "\n",
        "    Input: Enter 1st Number: 5\n",
        "            Enter 2nd Number: 12\n",
        "    Output: LCM: 1\n",
        "............................................................."
      ],
      "metadata": {
        "id": "hA5Rx9JIAhPt"
      }
    },
    {
      "cell_type": "code",
      "source": [
        "def LCM(num1,num2):\n",
        "  num1_factors=set()\n",
        "  num2_factors=set()\n",
        "  for x in range(1,num1+2):\n",
        "    if num1%x==0:\n",
        "      num1_factors.add(x)\n",
        "  for x in range(1,num2+2):\n",
        "    if num2%x==0:\n",
        "      num2_factors.add(x)\n",
        "  \n",
        "  common_factor = num1_factors.intersection(num2_factors)\n",
        "  hcf = max(common_factor)\n",
        "  result = (num1*num2)/hcf\n",
        "  return result\n",
        "  \n",
        "LCM(5,12)\n"
      ],
      "metadata": {
        "colab": {
          "base_uri": "https://localhost:8080/"
        },
        "id": "EL2T3RulIrjg",
        "outputId": "745f88f0-d660-4282-b237-ed206716509b"
      },
      "execution_count": null,
      "outputs": [
        {
          "output_type": "execute_result",
          "data": {
            "text/plain": [
              "60.0"
            ]
          },
          "metadata": {},
          "execution_count": 69
        }
      ]
    },
    {
      "cell_type": "markdown",
      "source": [
        "\n",
        "\n",
        "Problem 5: Day1- Program to check whether given number is Fibonacci or not.\n",
        "\n",
        "    Input: Enter a Number: 78\n",
        "    Output: It's not an Fibonacci Number\n",
        "    \n",
        "    Input: Enter a Number: 55\n",
        "    Output: Yup! It's a Fibinacci Number\n"
      ],
      "metadata": {
        "id": "fCwg7wCWAkuy"
      }
    },
    {
      "cell_type": "code",
      "source": [
        "def fibonacci_or_not(num):\n",
        "  \n",
        "  if num>=0:\n",
        "    fib = [0,1]\n",
        "    for x in range(num-2):\n",
        "      fib.append(fib[-1]+fib[-2])\n",
        "    if num in fib:\n",
        "      result=('It is a fibonacci')\n",
        "    else:\n",
        "      result=('It is not a fibonacci')\n",
        "  else:\n",
        "    result=('It is not a fibonacci')\n",
        "  return result\n",
        "  "
      ],
      "metadata": {
        "id": "uL4GjsvWLSwt"
      },
      "execution_count": null,
      "outputs": []
    },
    {
      "cell_type": "code",
      "source": [
        "fibonacci_or_not(78)"
      ],
      "metadata": {
        "colab": {
          "base_uri": "https://localhost:8080/",
          "height": 35
        },
        "id": "RbkIY38OMgIO",
        "outputId": "17590357-ddf9-4194-d5e9-5379d22485dd"
      },
      "execution_count": null,
      "outputs": [
        {
          "output_type": "execute_result",
          "data": {
            "text/plain": [
              "'It is not a fibonacci'"
            ],
            "application/vnd.google.colaboratory.intrinsic+json": {
              "type": "string"
            }
          },
          "metadata": {},
          "execution_count": 58
        }
      ]
    },
    {
      "cell_type": "markdown",
      "source": [
        "### ***Day 2***"
      ],
      "metadata": {
        "id": "gcchRyfR-ThM"
      }
    },
    {
      "cell_type": "markdown",
      "source": [
        "Problem 1: Program to Check whether numbers is Armstrong or not.\n",
        "    Input: Enter a Number: 189\n",
        "    Output: No, It's not an Armstrong Number\n",
        "    \n",
        "    Input: Enter a Number: 153\n",
        "    Output: It's an Armstrong Number\n"
      ],
      "metadata": {
        "id": "ramL9mpF-w-_"
      }
    },
    {
      "cell_type": "code",
      "source": [
        "def armstrong(num):\n",
        "  num=int(num)\n",
        "  temp=num\n",
        "  num_list = []\n",
        "  while num>=1:\n",
        "    num_list.append(num%10)\n",
        "    num=int(num/10)\n",
        "  check = 0\n",
        "  for x in num_list:\n",
        "    check +=(x**len(num_list))\n",
        "  if check==temp:\n",
        "    return 'It is Armstrong Number'\n",
        "  elif check!=temp:\n",
        "    return 'It is not an Armstrong Number'"
      ],
      "metadata": {
        "id": "Cc4xIApZ-wmX"
      },
      "execution_count": null,
      "outputs": []
    },
    {
      "cell_type": "code",
      "source": [
        "armstrong(153)"
      ],
      "metadata": {
        "colab": {
          "base_uri": "https://localhost:8080/",
          "height": 35
        },
        "id": "9QYjMmSlATmo",
        "outputId": "69790775-7dd7-4eeb-f87d-95fe32f570a7"
      },
      "execution_count": null,
      "outputs": [
        {
          "output_type": "execute_result",
          "data": {
            "text/plain": [
              "'It is Armstrong Number'"
            ],
            "application/vnd.google.colaboratory.intrinsic+json": {
              "type": "string"
            }
          },
          "metadata": {},
          "execution_count": 71
        }
      ]
    },
    {
      "cell_type": "markdown",
      "source": [
        "Problem 2: Program for Array Rotation.\n",
        "\n",
        "    Input: [ 5, 6, 7, 8, 1, 11, 15, 16], N = 4\n",
        "    Output: [1, 11, 15, 16, 5, 6, 7, 8]\n"
      ],
      "metadata": {
        "id": "4eoGOSYz-3jX"
      }
    },
    {
      "cell_type": "code",
      "source": [
        "def Array_Rotation(arr,n):\n",
        "  for x in range(n):\n",
        "   arr.append(arr[x])\n",
        "  for x in range(n):\n",
        "    arr.pop(0)    \n",
        "  return arr"
      ],
      "metadata": {
        "id": "EaVFeA_8-uzZ"
      },
      "execution_count": null,
      "outputs": []
    },
    {
      "cell_type": "code",
      "source": [
        "Array_Rotation([ 5, 6, 7, 8, 1, 11, 15, 16],4)"
      ],
      "metadata": {
        "colab": {
          "base_uri": "https://localhost:8080/"
        },
        "id": "hvZS8O7GLqP_",
        "outputId": "c379d8d8-fa9e-4d12-a446-3c6e63fea6fe"
      },
      "execution_count": null,
      "outputs": [
        {
          "output_type": "execute_result",
          "data": {
            "text/plain": [
              "[1, 11, 15, 16, 5, 6, 7, 8]"
            ]
          },
          "metadata": {},
          "execution_count": 88
        }
      ]
    },
    {
      "cell_type": "markdown",
      "source": [
        "Problem 3: Program for Maximum and Minimum elements in a list.\n",
        "\n",
        "    Input: [5, 7, 9, 4, 6, 23, 11, 12]\n",
        "    Output: Max: 23, MIN: 4\n"
      ],
      "metadata": {
        "id": "Cce6nVOC-6ZQ"
      }
    },
    {
      "cell_type": "code",
      "source": [
        "def max_min_in_list(list1):\n",
        "  max_list = {'Max':max(list1)}\n",
        "  min_list = {'Min':min(list1)}\n",
        "  return max_list,min_list"
      ],
      "metadata": {
        "id": "Tayi-KS3NQ9T"
      },
      "execution_count": null,
      "outputs": []
    },
    {
      "cell_type": "code",
      "source": [
        "max_min_in_list([5, 7, 9, 4, 6, 23, 11, 12])"
      ],
      "metadata": {
        "colab": {
          "base_uri": "https://localhost:8080/"
        },
        "id": "3lGkUv-GN-gJ",
        "outputId": "34b9774d-86fc-4367-ddf2-722a8789beaf"
      },
      "execution_count": null,
      "outputs": [
        {
          "output_type": "execute_result",
          "data": {
            "text/plain": [
              "({'Max': 23}, {'Min': 4})"
            ]
          },
          "metadata": {},
          "execution_count": 103
        }
      ]
    },
    {
      "cell_type": "markdown",
      "source": [
        "Problem 4: Program to check whether number is Palindrome or not.\n",
        "\n",
        "    Input: Enter a Number: 121\n",
        "    Output: Palindrome Number\n",
        "       \n",
        "    Input: Enter a Number: 123\n",
        "    Output: Not a Palindrome Number\n"
      ],
      "metadata": {
        "id": "sqVTK-T9-8Xl"
      }
    },
    {
      "cell_type": "code",
      "source": [
        "def palindrome(num):\n",
        "  num=int(num)\n",
        "  temp=int(num)\n",
        "  list_num=[]\n",
        "  check=0\n",
        "  while temp>0:\n",
        "    list_num.append(temp%10)\n",
        "    temp=int(temp/10)\n",
        "  temp=int(num)\n",
        "  for x in range(len(list_num)-1,-1,-1):\n",
        "    check=check+(temp%10)*(10**x)\n",
        "    temp=int(temp/10)\n",
        "  if check==num:\n",
        "    return 'Palindrome Number'\n",
        "  else:\n",
        "    return 'Not a Palindrome Number'\n"
      ],
      "metadata": {
        "id": "H7FlIQ0pPtxb"
      },
      "execution_count": null,
      "outputs": []
    },
    {
      "cell_type": "code",
      "source": [
        "palindrome(121)"
      ],
      "metadata": {
        "colab": {
          "base_uri": "https://localhost:8080/",
          "height": 35
        },
        "id": "BuncRJ4aRicb",
        "outputId": "d28c21bc-6144-42bf-dc56-f14f3a8fe640"
      },
      "execution_count": null,
      "outputs": [
        {
          "output_type": "execute_result",
          "data": {
            "text/plain": [
              "'Palindrome Number'"
            ],
            "application/vnd.google.colaboratory.intrinsic+json": {
              "type": "string"
            }
          },
          "metadata": {},
          "execution_count": 141
        }
      ]
    },
    {
      "cell_type": "markdown",
      "source": [
        "Problem 5: Program to check Prime Number using Sieve of Eratosthenes.\n",
        "\n",
        "    Input: Upto How Many Terms: 20\n",
        "    Output: 2 3 5 7 11 13 17 19"
      ],
      "metadata": {
        "id": "BmQOxcTn--MZ"
      }
    },
    {
      "cell_type": "code",
      "source": [
        "def prime_num(num):\n",
        "  prime=[]\n",
        "  composite=[]\n",
        "  for x in range(2,num):\n",
        "    temp=[]\n",
        "    for y in range(1,x+1):\n",
        "      if x%y==0:\n",
        "        temp.append(y)\n",
        "      else:\n",
        "        pass\n",
        "    if len(temp)>2:\n",
        "      composite.append(x)\n",
        "    else:\n",
        "      prime.append(x)\n",
        "\n",
        "  return prime\n",
        "\n",
        "\n",
        "\n"
      ],
      "metadata": {
        "id": "y-C-aPy-bPkQ"
      },
      "execution_count": null,
      "outputs": []
    },
    {
      "cell_type": "code",
      "source": [
        "print(prime_num(100))"
      ],
      "metadata": {
        "colab": {
          "base_uri": "https://localhost:8080/"
        },
        "id": "mueKLb0ygQRl",
        "outputId": "21f444fa-3d03-4643-f8ee-d43e0f2c7a7c"
      },
      "execution_count": null,
      "outputs": [
        {
          "output_type": "stream",
          "name": "stdout",
          "text": [
            "[2, 3, 5, 7, 11, 13, 17, 19, 23, 29, 31, 37, 41, 43, 47, 53, 59, 61, 67, 71, 73, 79, 83, 89, 97]\n"
          ]
        }
      ]
    },
    {
      "cell_type": "markdown",
      "source": [
        "Print\n",
        "*         \n",
        "**        \n",
        "* *       \n",
        "*  *      \n",
        "*   *     \n",
        "*    *    \n",
        "*     *   \n",
        "*      *  \n",
        "*       * \n",
        "*****"
      ],
      "metadata": {
        "id": "qswxKsHgOUt4"
      }
    },
    {
      "cell_type": "code",
      "source": [
        "def pyramid_star(n):\n",
        "  \n",
        "  for x in range(n):\n",
        "    if x==0:\n",
        "      print('*')\n",
        "    elif x>0 and x!=n-1:\n",
        "      print('*'+' '*x+'*')\n",
        "    elif x==n-1:\n",
        "      print('*'*n)"
      ],
      "metadata": {
        "id": "Ju6_ef9-gVKY"
      },
      "execution_count": null,
      "outputs": []
    },
    {
      "cell_type": "code",
      "source": [
        "pyramid_star(10)"
      ],
      "metadata": {
        "colab": {
          "base_uri": "https://localhost:8080/"
        },
        "id": "qYkJT74PR--9",
        "outputId": "363b3dc7-1883-42d7-c677-fde208c265f4"
      },
      "execution_count": null,
      "outputs": [
        {
          "output_type": "stream",
          "name": "stdout",
          "text": [
            "*\n",
            "* *\n",
            "*  *\n",
            "*   *\n",
            "*    *\n",
            "*     *\n",
            "*      *\n",
            "*       *\n",
            "*        *\n",
            "**********\n"
          ]
        }
      ]
    },
    {
      "cell_type": "markdown",
      "source": [
        " Given a String Matrix, perform column-wise concatenation of strings, handling variable lists lengths.\n",
        " \n",
        "Input : [[“Gfg”, “good”], [“is”, “for”]]\n",
        "Output : [‘Gfgis’, ‘goodfor’]\n",
        "Input : [[“Gfg”, “good”, “geeks”], [“is”, “for”, “best”]] \n",
        "Output : [‘Gfgis’, ‘goodfor’, “geeksbest”]"
      ],
      "metadata": {
        "id": "rt-XXCb3Ontu"
      }
    },
    {
      "cell_type": "code",
      "source": [
        "# def concatenation(list1):\n",
        "#   output=[]\n",
        "#   for x in range(len(list1[0])):\n",
        "#     output.append(list1[0][x]+list1[1][x])\n",
        "#   return output"
      ],
      "metadata": {
        "id": "R9yjt6xOlMz5"
      },
      "execution_count": null,
      "outputs": []
    },
    {
      "cell_type": "code",
      "source": [
        "def concatenation(list1):\n",
        "  output=[]\n",
        "  for x in range(len(list1[0])):\n",
        "    temp=' '\n",
        "    for y in range(len(list1)):\n",
        "      temp=temp+list1[y][x]\n",
        "    output.append(temp)\n",
        "  return output"
      ],
      "metadata": {
        "id": "637SEgcteGeO"
      },
      "execution_count": null,
      "outputs": []
    },
    {
      "cell_type": "code",
      "source": [
        "list1=[['Gfg', 'good', 'geeks'], ['is', 'for', 'best'],['Gfg', 'good', 'geeks']]\n",
        "concatenation(list1)"
      ],
      "metadata": {
        "colab": {
          "base_uri": "https://localhost:8080/"
        },
        "id": "WuQlesC8S9NA",
        "outputId": "79a5a55b-af77-45e7-f6f4-257aeba8127f"
      },
      "execution_count": null,
      "outputs": [
        {
          "output_type": "execute_result",
          "data": {
            "text/plain": [
              "[' GfgisGfg', ' goodforgood', ' geeksbestgeeks']"
            ]
          },
          "metadata": {},
          "execution_count": 61
        }
      ]
    },
    {
      "cell_type": "markdown",
      "source": [
        "### ***Day 3***"
      ],
      "metadata": {
        "id": "bH1nAk2Jk_LS"
      }
    },
    {
      "cell_type": "markdown",
      "source": [
        "Problem 1: Program to check whether list is Monotonic or not.\n",
        "\n",
        "    Input: [5, 6, 7, 9, 1, 10, 25, 31]\n",
        "    Output: No, It's not an Monotonic List\n",
        "    \n",
        "    Input: [1, 2, 3, 4, 5, 6, 7, 8]\n",
        "    Output: Yup, It's an Monotonic List\n",
        "\n"
      ],
      "metadata": {
        "id": "u-6TO22Gneww"
      }
    },
    {
      "cell_type": "code",
      "source": [
        "def Monotonic(list1):\n",
        "  inc=[]\n",
        "  dec=[]\n",
        "  for x in range(len(list1)-2):\n",
        "    if list1[x]>list1[x+1] and list1[x]-list1[x+1]==list1[x+1]-list1[x+2]:\n",
        "      inc.append(list1[x]-list1[x+1])\n",
        "      inc.append(list1[x+1]-list1[x+2])\n",
        "    elif list1[x]<list1[x+1] and list1[x+1]-list1[x]==list1[x+2]-list1[x+1]:\n",
        "      dec.append(list1[x+1]-list1[x])\n",
        "      dec.append(list1[x+2]-list1[x+1])\n",
        "    else:\n",
        "      return 'Not Monotinic'\n",
        "    \n",
        "  check=True\n",
        "  for x in range(len(inc)-1):\n",
        "    if inc[x]==inc[x+1] or dec[x]==dec[x+1]:\n",
        "      check=True\n",
        "    else:\n",
        "      check=False\n",
        "  if check==True:\n",
        "    return 'Monotonic'\n",
        "  else:\n",
        "    return \"Not a Monotonic\"\n",
        "    \n"
      ],
      "metadata": {
        "id": "ObtWQDLByQRX"
      },
      "execution_count": null,
      "outputs": []
    },
    {
      "cell_type": "code",
      "source": [
        "Monotonic([8,7,6,5,4,3,2,1])"
      ],
      "metadata": {
        "colab": {
          "base_uri": "https://localhost:8080/",
          "height": 35
        },
        "id": "yY6_CNmA0rQE",
        "outputId": "2496cdb4-7060-4ed8-ee8c-bb000d4da851"
      },
      "execution_count": null,
      "outputs": [
        {
          "output_type": "execute_result",
          "data": {
            "text/plain": [
              "'Monotonic'"
            ],
            "application/vnd.google.colaboratory.intrinsic+json": {
              "type": "string"
            }
          },
          "metadata": {},
          "execution_count": 32
        }
      ]
    },
    {
      "cell_type": "markdown",
      "source": [
        ""
      ],
      "metadata": {
        "id": "0LJ8Lhoi0pbd"
      }
    },
    {
      "cell_type": "markdown",
      "source": [
        "Problem 2: Program for Reversing a list.\n",
        "\n",
        "    Input: [7, 4, 5, 6, 7, 8, 9, 1]\n",
        "    Output: [1, 9, 8, 7, 6, 5, 4, 7]\n"
      ],
      "metadata": {
        "id": "K_ShCDXWnn-t"
      }
    },
    {
      "cell_type": "code",
      "source": [
        "def reversing(list1):\n",
        "  \n",
        "  output=[]\n",
        "  for x in range(len(list1)):\n",
        "    output.append(list1[x])\n",
        "  return output"
      ],
      "metadata": {
        "id": "EIOW3zQin1TL"
      },
      "execution_count": null,
      "outputs": []
    },
    {
      "cell_type": "code",
      "source": [
        "reversing([7, 4, 5, 6, 7, 8, 9, 1])"
      ],
      "metadata": {
        "colab": {
          "base_uri": "https://localhost:8080/"
        },
        "id": "N7yV9rzvoZyb",
        "outputId": "a6a45871-d4b8-46b4-a94f-fb2477b3366d"
      },
      "execution_count": null,
      "outputs": [
        {
          "output_type": "execute_result",
          "data": {
            "text/plain": [
              "[7, 4, 5, 6, 7, 8, 9, 1]"
            ]
          },
          "metadata": {},
          "execution_count": 77
        }
      ]
    },
    {
      "cell_type": "markdown",
      "source": [
        "Problem 3: Program for Searching elements in a list.\n",
        "\n",
        "    Input: [7, 6, 5, 3, 2, 6, 5, 10], N = 6\n",
        "    Output: Present \n"
      ],
      "metadata": {
        "id": "vTaEOxgLnq-Z"
      }
    },
    {
      "cell_type": "code",
      "source": [
        "def searching(list1,n):\n",
        "  if n in list1:\n",
        "    return 'Present'\n",
        "  else:\n",
        "    return 'Not Present'"
      ],
      "metadata": {
        "id": "rtZbzx-ApA6I"
      },
      "execution_count": null,
      "outputs": []
    },
    {
      "cell_type": "code",
      "source": [
        "searching([7, 6, 5, 3, 2, 6, 5, 10], 6)"
      ],
      "metadata": {
        "colab": {
          "base_uri": "https://localhost:8080/",
          "height": 35
        },
        "id": "CtTKc58IpUQy",
        "outputId": "df8887bb-63e0-4399-e3a5-abb80ff17cb0"
      },
      "execution_count": null,
      "outputs": [
        {
          "output_type": "execute_result",
          "data": {
            "text/plain": [
              "'Present'"
            ],
            "application/vnd.google.colaboratory.intrinsic+json": {
              "type": "string"
            }
          },
          "metadata": {},
          "execution_count": 79
        }
      ]
    },
    {
      "cell_type": "markdown",
      "source": [
        "Problem 4: Program for Second Largest element in a list.\n",
        "\n",
        "    Input: [7, 6, 5, 3, 2, 6, 5, 10]\n",
        "    Output: Second Largest Element is: 7\n"
      ],
      "metadata": {
        "id": "spWJPKV8nu3O"
      }
    },
    {
      "cell_type": "code",
      "source": [
        "def second_largest(list1):\n",
        "  list1.remove(max(list1))\n",
        "  return 'Second Largest Element is:',max(list1)"
      ],
      "metadata": {
        "id": "lb_ipOtrpbrn"
      },
      "execution_count": null,
      "outputs": []
    },
    {
      "cell_type": "code",
      "source": [
        "second_largest([7, 6, 5, 3, 2, 6, 5, 10])"
      ],
      "metadata": {
        "colab": {
          "base_uri": "https://localhost:8080/"
        },
        "id": "HFr_oFIcpw4C",
        "outputId": "50c89d76-a663-48af-da8b-b5af6e438539"
      },
      "execution_count": null,
      "outputs": [
        {
          "output_type": "execute_result",
          "data": {
            "text/plain": [
              "('Second Largest Element is:', 7)"
            ]
          },
          "metadata": {},
          "execution_count": 85
        }
      ]
    },
    {
      "cell_type": "markdown",
      "source": [
        "Problem 5: Program to Swap first element with last element in a list.\n",
        "\n",
        "    Input: [10, 5, 2, 6, 3, 7, 9, 4]\n",
        "    Output: [4, 5, 2, 6, 3, 7, 9, 10]"
      ],
      "metadata": {
        "id": "OSGxSYNonx1N"
      }
    },
    {
      "cell_type": "code",
      "source": [
        "def swap_first_last_ele(list1):  \n",
        "  temp = tuple(list1)\n",
        "  list1[-1] = temp[0]\n",
        "  list1[0] = temp[-1]\n",
        "  return list1\n"
      ],
      "metadata": {
        "id": "reGaFJhmk-yu"
      },
      "execution_count": null,
      "outputs": []
    },
    {
      "cell_type": "code",
      "source": [
        "swap_first_last_ele([10, 5, 2, 6, 3, 7, 9, 4])"
      ],
      "metadata": {
        "colab": {
          "base_uri": "https://localhost:8080/"
        },
        "id": "vI7RyQK2d8Yx",
        "outputId": "e5d983c4-4777-4c02-aa35-3b928c28984f"
      },
      "execution_count": null,
      "outputs": [
        {
          "output_type": "execute_result",
          "data": {
            "text/plain": [
              "[4, 5, 2, 6, 3, 7, 9, 10]"
            ]
          },
          "metadata": {},
          "execution_count": 158
        }
      ]
    },
    {
      "cell_type": "markdown",
      "source": [
        "### ***Day 4***"
      ],
      "metadata": {
        "id": "k0OX8IBL6lMl"
      }
    },
    {
      "cell_type": "markdown",
      "source": [
        "Problem 1: Program for Cloning/Copying the list.\n",
        "\n",
        "    Input: [4, 5, 7, 8, 9, 6, 10, 15]\n",
        "    Output: [4, 5, 7, 8, 9, 6, 10, 15]\n"
      ],
      "metadata": {
        "id": "Mt1k-ect6qLE"
      }
    },
    {
      "cell_type": "code",
      "source": [
        "def cloning(list1):\n",
        "  return list1"
      ],
      "metadata": {
        "id": "IOkNrFuj9QpQ"
      },
      "execution_count": null,
      "outputs": []
    },
    {
      "cell_type": "code",
      "source": [
        "list1 = [4, 5, 7, 8, 9, 6, 10, 15]\n",
        "cloning(list1)\n"
      ],
      "metadata": {
        "colab": {
          "base_uri": "https://localhost:8080/"
        },
        "id": "6eAwDdlK9Yik",
        "outputId": "54e492cc-c823-4b16-b495-68bc73c34d02"
      },
      "execution_count": null,
      "outputs": [
        {
          "output_type": "execute_result",
          "data": {
            "text/plain": [
              "[4, 5, 7, 8, 9, 6, 10, 15]"
            ]
          },
          "metadata": {},
          "execution_count": 163
        }
      ]
    },
    {
      "cell_type": "markdown",
      "source": [
        "Problem 2: Program for N Largest elements in a list.\n",
        "\n",
        "    Input: [4, 5, 7, 8, 9, 6, 10, 15]\n",
        "    Output: [15, 10, 9, 8]\n"
      ],
      "metadata": {
        "id": "UQvC8oIu7LC0"
      }
    },
    {
      "cell_type": "code",
      "source": [
        "def n_largest_elements(list1,n):\n",
        "  output=[]\n",
        "  temp=list1\n",
        "  for x in range(n):\n",
        "    output.append(max(temp))\n",
        "    temp.remove(max(temp))\n",
        "  return output\n",
        "\n"
      ],
      "metadata": {
        "id": "ztNjvST-9wt6"
      },
      "execution_count": null,
      "outputs": []
    },
    {
      "cell_type": "code",
      "source": [
        "n_largest_elements([4, 5, 7, 8, 9, 6, 10, 15],5)"
      ],
      "metadata": {
        "colab": {
          "base_uri": "https://localhost:8080/"
        },
        "id": "YLqfEDbe-p9Z",
        "outputId": "396c19c9-c403-425a-dd1e-e758825ea9d0"
      },
      "execution_count": null,
      "outputs": [
        {
          "output_type": "execute_result",
          "data": {
            "text/plain": [
              "[15, 10, 9, 8, 7]"
            ]
          },
          "metadata": {},
          "execution_count": 167
        }
      ]
    },
    {
      "cell_type": "markdown",
      "source": [
        "Problem 3: Program for Occurrences of elements.\n",
        "\n",
        "    Input: [14, 25, 16, 23, 10, 5, 6, 8, 7, 9, 10, 25, 14], N = 14\n",
        "    Output: 14 Occurs 2 times\n"
      ],
      "metadata": {
        "id": "ggfFz6ql7Na1"
      }
    },
    {
      "cell_type": "code",
      "source": [
        "def occurrences_of_elements(list1,n):\n",
        "  a = list1.count(n)\n",
        "  b = print(f'{n} Occurs {a} times')\n",
        "  return b"
      ],
      "metadata": {
        "id": "yQ96gXvc-_LH"
      },
      "execution_count": null,
      "outputs": []
    },
    {
      "cell_type": "code",
      "source": [
        "occurrences_of_elements([14, 25, 16, 23, 10, 5, 6, 8, 7, 9, 10, 25, 14],14)"
      ],
      "metadata": {
        "colab": {
          "base_uri": "https://localhost:8080/"
        },
        "id": "r-fuTalBACce",
        "outputId": "8399c4e1-6c03-4cba-c1e9-c0c908cf6073"
      },
      "execution_count": null,
      "outputs": [
        {
          "output_type": "stream",
          "name": "stdout",
          "text": [
            "14 Occurs 2 times\n"
          ]
        }
      ]
    },
    {
      "cell_type": "markdown",
      "source": [
        "Problem 4: Program for Removing Empty list.\n",
        "\n",
        "    Input: [5, 6, [], 7, 8, 9, [], 12, [], 4,[]]\n",
        "    Output: [5, 6, 7, 8, 9, 12, 4]\n"
      ],
      "metadata": {
        "id": "9kv8pDfb7P0H"
      }
    },
    {
      "cell_type": "code",
      "source": [
        "def removing_empty_list(list1):\n",
        "  for x in list1:\n",
        "    if x==[]:\n",
        "      list1.remove(x)\n",
        "  return list1\n"
      ],
      "metadata": {
        "id": "ZjuCz5gUAyqB"
      },
      "execution_count": null,
      "outputs": []
    },
    {
      "cell_type": "code",
      "source": [
        "list1=[5, 6, [], 7, 8, 9, [], 12, [], 4,[]]\n",
        "removing_empty_list(list1)"
      ],
      "metadata": {
        "colab": {
          "base_uri": "https://localhost:8080/"
        },
        "id": "gZPv7OHSB-F2",
        "outputId": "d0c6b155-3631-43d4-ad63-798d129d959c"
      },
      "execution_count": null,
      "outputs": [
        {
          "output_type": "execute_result",
          "data": {
            "text/plain": [
              "[5, 6, 7, 8, 9, 12, 4]"
            ]
          },
          "metadata": {},
          "execution_count": 181
        }
      ]
    },
    {
      "cell_type": "markdown",
      "source": [
        "Problem 5: Program for Removing Multiple Elements.\n",
        "\n",
        "    Input: [1, 2, 3, 4, 5], N = [2, 4]\n",
        "    Output: [1, 3, 5]"
      ],
      "metadata": {
        "id": "TIRDDxAL7R_Z"
      }
    },
    {
      "cell_type": "code",
      "source": [
        "def removing_multiple_elements(list1,n):\n",
        "  y=tuple(n)\n",
        "  for x in range(len(n)):\n",
        "    if y[x] in list1:\n",
        "      list1.remove(y[x])\n",
        "  return list1\n"
      ],
      "metadata": {
        "id": "rEC1vN81CyxA"
      },
      "execution_count": null,
      "outputs": []
    },
    {
      "cell_type": "code",
      "source": [
        "list1=[1, 2, 3, 4, 5]; n = [2, 4]\n",
        "removing_multiple_elements(list1,n)"
      ],
      "metadata": {
        "colab": {
          "base_uri": "https://localhost:8080/"
        },
        "id": "flTwbXAawjeP",
        "outputId": "0ce7c3c2-a0cd-4c78-d815-dfa48ed3509f"
      },
      "execution_count": null,
      "outputs": [
        {
          "output_type": "execute_result",
          "data": {
            "text/plain": [
              "[1, 3, 5]"
            ]
          },
          "metadata": {},
          "execution_count": 189
        }
      ]
    },
    {
      "cell_type": "markdown",
      "source": [
        "### ***Day 5***"
      ],
      "metadata": {
        "id": "QmBNiylgFS5g"
      }
    },
    {
      "cell_type": "markdown",
      "source": [
        "Problem 1: Program to Break list into Chunks of list.\n",
        "\n",
        "    Input: [10, 45, 20, 62, 47, 85, 12, 63, 24, 78, 10], N = 2\n",
        "    Output: [[45, 20], [62, 47], [85, 12], [63, 24], [78, 10]]\n"
      ],
      "metadata": {
        "id": "z-dFZ-dq7g5y"
      }
    },
    {
      "cell_type": "code",
      "source": [
        "# def list_into_Chunks(list1,n):\n",
        "  # set1=set(list1)\n",
        "  # new_list=list(set1)\n",
        "  # output=[]\n",
        "  # if len(new_list)%2==0:\n",
        "  #   for x in range(0,len(new_list),2):\n",
        "  #     output.append((new_list[x],new_list[x+1]))\n",
        "  #   return output\n",
        "  # elif len(new_list)%2!=0:\n",
        "  #   for x in range(0,len(new_list)-1,2):\n",
        "  #     output.append((new_list[x],new_list[x+1]))\n",
        "      \n",
        "  #   return output\n",
        "  "
      ],
      "metadata": {
        "id": "5-9jHmcDEew-"
      },
      "execution_count": null,
      "outputs": []
    },
    {
      "cell_type": "markdown",
      "source": [
        "### ***OR***"
      ],
      "metadata": {
        "id": "FJQZy-tR_GZO"
      }
    },
    {
      "cell_type": "code",
      "source": [
        "def list_into_Chunks(list1,n):\n",
        "  new_list=list(list1)\n",
        "  for x in range(len(list1)):\n",
        "    if new_list.count(x)>1:\n",
        "      new_list.remove(x)\n",
        "  output=[]\n",
        "  if len(new_list)%n==0:\n",
        "    for x in range(0,len(new_list),n):\n",
        "      a=x\n",
        "      temp=[]\n",
        "      for y in range(n):\n",
        "        temp.append(new_list[a])\n",
        "        a=a+1\n",
        "      output.append(tuple(temp))\n",
        "    return output\n",
        "  elif len(new_list)%n!=0:\n",
        "    for x in range(0,len(new_list)-(n-1),n):\n",
        "      a=x\n",
        "      temp=[]\n",
        "      for y in range(n):\n",
        "        temp.append(new_list[a])\n",
        "        a=a+1\n",
        "      output.append(tuple(temp))\n",
        "    return output"
      ],
      "metadata": {
        "id": "TB3WgcFy_J6V"
      },
      "execution_count": null,
      "outputs": []
    },
    {
      "cell_type": "code",
      "source": [
        "list1=[10, 45, 20, 62, 47, 85, 12, 63, 24, 78, 10,11,15]; n = 4\n",
        "list_into_Chunks(list1,n)"
      ],
      "metadata": {
        "colab": {
          "base_uri": "https://localhost:8080/"
        },
        "id": "aPEsLioS7kYc",
        "outputId": "70654d75-fe7d-4801-8ba4-59215f924903"
      },
      "execution_count": null,
      "outputs": [
        {
          "output_type": "execute_result",
          "data": {
            "text/plain": [
              "[(45, 20, 62, 47), (85, 12, 63, 24), (78, 10, 11, 15)]"
            ]
          },
          "metadata": {},
          "execution_count": 59
        }
      ]
    },
    {
      "cell_type": "markdown",
      "source": [
        "Problem 2: Program for Cumulative Sum of list.\n",
        "\n",
        "    Input: [10, 20, 30, 40, 50, 60]\n",
        "    Output: [10, 30, 60, 100, 150, 210]\n"
      ],
      "metadata": {
        "id": "cwCCUDj87k-U"
      }
    },
    {
      "cell_type": "code",
      "source": [
        "def cumulative_sum(list1):\n",
        "  output=[]\n",
        "  for x in range(len(list1)):\n",
        "    if x !=0:\n",
        "      output.append(output[x-1]+list1[x])\n",
        "    else:\n",
        "      output.append(list1[x])\n",
        "  return output"
      ],
      "metadata": {
        "id": "9_VnGVjkCj8Q"
      },
      "execution_count": null,
      "outputs": []
    },
    {
      "cell_type": "code",
      "source": [
        "list1=[10, 20, 30, 40, 50, 60]\n",
        "cumulative_sum(list1)"
      ],
      "metadata": {
        "colab": {
          "base_uri": "https://localhost:8080/"
        },
        "id": "jRPx3sNjDjpm",
        "outputId": "256c2ed3-d3e4-49e0-a6cf-c34f0af16d0c"
      },
      "execution_count": null,
      "outputs": [
        {
          "output_type": "execute_result",
          "data": {
            "text/plain": [
              "[10, 30, 60, 100, 150, 210]"
            ]
          },
          "metadata": {},
          "execution_count": 70
        }
      ]
    },
    {
      "cell_type": "markdown",
      "source": [
        "Problem 3: Program to print Duplicates in list.\n",
        "\n",
        "    Input: [4, 5, 1, 2, 6, 5, 2]\n",
        "    Output: [5, 2]\n"
      ],
      "metadata": {
        "id": "E5OkyUWa7noA"
      }
    },
    {
      "cell_type": "code",
      "source": [
        "def print_duplicates(list1):\n",
        "  output=[]\n",
        "  for x in list1:\n",
        "    if list1.count(x)>1:\n",
        "      output.append(x)\n",
        "      for y in range(list1.count(x)):\n",
        "        list1.remove(x)\n",
        "  return output"
      ],
      "metadata": {
        "id": "TRbay6NeEbhX"
      },
      "execution_count": null,
      "outputs": []
    },
    {
      "cell_type": "code",
      "source": [
        "list1=[4, 5, 1, 2, 6, 5, 2]\n",
        "print_duplicates(list1)"
      ],
      "metadata": {
        "colab": {
          "base_uri": "https://localhost:8080/"
        },
        "id": "FbX8d38LExb9",
        "outputId": "e67ec15e-b78f-4739-c9b0-bd91ab689148"
      },
      "execution_count": null,
      "outputs": [
        {
          "output_type": "execute_result",
          "data": {
            "text/plain": [
              "[5, 2]"
            ]
          },
          "metadata": {},
          "execution_count": 86
        }
      ]
    },
    {
      "cell_type": "markdown",
      "source": [
        "Problem 4: Program for Flattening a list.\n",
        "\n",
        "    Input: [1, 2, [3, 4, [5, 6], 7], [[[8, 9], 10]], [11, [12, 13]]]\n",
        "    Output: [1, 2, 3, 4, 5, 6, 7, 8, 9, 10, 11, 12, 13]"
      ],
      "metadata": {
        "id": "d9NlbrWj7p0H"
      }
    },
    {
      "cell_type": "code",
      "source": [
        "def Flattening(list1):\n",
        "  output=[]\n",
        "  for x in list1:\n",
        "    if type(x) is type(list1):\n",
        "      output.extend(Flattening(x))\n",
        "    else:\n",
        "      output.append(x)\n",
        "  return output\n"
      ],
      "metadata": {
        "id": "SjQlphH_FJjm"
      },
      "execution_count": null,
      "outputs": []
    },
    {
      "cell_type": "code",
      "source": [
        "list1=[1, 2, [3, 4, [5, 6], 7], [[[8, 9], 10]], [11, [12, 13]]]\n",
        "Flattening(list1)"
      ],
      "metadata": {
        "colab": {
          "base_uri": "https://localhost:8080/"
        },
        "id": "e1wskORIGuja",
        "outputId": "4d6611ae-a3a1-4934-91ef-98a3bee67c86"
      },
      "execution_count": null,
      "outputs": [
        {
          "output_type": "execute_result",
          "data": {
            "text/plain": [
              "[1, 2, 3, 4, 5, 6, 7, 8, 9, 10, 11, 12, 13]"
            ]
          },
          "metadata": {},
          "execution_count": 101
        }
      ]
    },
    {
      "cell_type": "markdown",
      "source": [
        "# ***Day 6***"
      ],
      "metadata": {
        "id": "XaG5ENxuJssU"
      }
    },
    {
      "cell_type": "markdown",
      "source": [
        "Problem 1: Program for Increamenting Numeric String.\n",
        "\n",
        "    Input: [\"100\", \"Days\", \"of\", \"CodeChallenge\", \"234\", \"is\", \"98\", \"123\", \"best\", \"4\"], N = 10\n",
        "    Output: ['110', 'Days', 'of', 'CodeChallenge', '244', 'is', '108', '133', 'best', '14']\n"
      ],
      "metadata": {
        "id": "jiOS2svdJzuS"
      }
    },
    {
      "cell_type": "code",
      "source": [
        "def increamenting_num_str(list1,n):\n",
        "  output=[]\n",
        "  for x in list1:\n",
        "    temp=0\n",
        "    try:      \n",
        "      x=int(x)\n",
        "      if type(x)==int:\n",
        "        temp = x+n\n",
        "        temp =str(temp)\n",
        "        output.append(temp)\n",
        "      else:\n",
        "        output.append(x)\n",
        "    except:\n",
        "      if type(x)==int:\n",
        "        temp = x+n\n",
        "        temp =str(temp)\n",
        "        output.append(temp)\n",
        "      else:\n",
        "        output.append(x)\n",
        "  return output    "
      ],
      "metadata": {
        "id": "zjYGS8c5G1D5"
      },
      "execution_count": null,
      "outputs": []
    },
    {
      "cell_type": "code",
      "source": [
        "list1=[\"100\", \"Days\", \"of\", \"CodeChallenge\", \"234\", \"is\", \"98\", \"123\", \"best\", \"4\"]; n = 10\n",
        "increamenting_num_str(list1,n)\n"
      ],
      "metadata": {
        "colab": {
          "base_uri": "https://localhost:8080/"
        },
        "id": "Rf91eB0lLIEU",
        "outputId": "dbf9ed1a-0ba6-4052-f4e5-b100ba56cfbb"
      },
      "execution_count": null,
      "outputs": [
        {
          "output_type": "execute_result",
          "data": {
            "text/plain": [
              "['110', 'Days', 'of', 'CodeChallenge', '244', 'is', '108', '133', 'best', '14']"
            ]
          },
          "metadata": {},
          "execution_count": 129
        }
      ]
    },
    {
      "cell_type": "code",
      "source": [
        ""
      ],
      "metadata": {
        "id": "ACPeus-CL2Un"
      },
      "execution_count": null,
      "outputs": []
    },
    {
      "cell_type": "markdown",
      "source": [
        "Problem 2: Program to find Maximum of each key in list.\n",
        "\n",
        "    Input: [{\"Days\": 8, \"Code\": 1, \"Challenge\": 9}, {\"Days\": 2, \"Code\": 9, \"Challenge\": 1}, {\"Days\": 5, \"Code\": 10, \"Challenge\": 7}]\n",
        "    Output: {'Days': 8, 'Code': 10, 'Challenge': 9}\n"
      ],
      "metadata": {
        "id": "8aJNPeMVJ9JI"
      }
    },
    {
      "cell_type": "code",
      "source": [
        "list1=[{\"Days\": 8, \"Code\": 1, \"Challenge\": 9}, {\"Days\": 2, \"Code\": 9, \"Challenge\": 1}, {\"Days\": 5, \"Code\": 10, \"Challenge\": 7}]\n"
      ],
      "metadata": {
        "id": "kCaBP9wsNus5"
      },
      "execution_count": null,
      "outputs": []
    },
    {
      "cell_type": "code",
      "source": [
        "def max_each_key(list1):\n",
        "  output=dict()\n",
        "  for x in list1:\n",
        "    \n",
        "    for key,value in x.items():\n",
        "      if key in output:\n",
        "        if output[key]<value:\n",
        "          output.update({key:value})\n",
        "      else:\n",
        "        output.update({key:value})\n",
        "      \n",
        "  return output\n",
        "\n"
      ],
      "metadata": {
        "id": "iaRKgmKmNdDA"
      },
      "execution_count": null,
      "outputs": []
    },
    {
      "cell_type": "code",
      "source": [
        "max_each_key(list1)"
      ],
      "metadata": {
        "colab": {
          "base_uri": "https://localhost:8080/"
        },
        "id": "MsE55L2NbEXw",
        "outputId": "ee1133a0-48be-4bb8-9106-71b2edbb64b6"
      },
      "execution_count": null,
      "outputs": [
        {
          "output_type": "execute_result",
          "data": {
            "text/plain": [
              "{'Challenge': 9, 'Code': 10, 'Days': 8}"
            ]
          },
          "metadata": {},
          "execution_count": 192
        }
      ]
    },
    {
      "cell_type": "markdown",
      "source": [
        "Problem 3: Program to Sort list_1 by list_2.\n",
        "\n",
        "    Input: [\"a\", \"b\", \"c\", \"d\", \"e\", \"f\", \"g\", \"h\", \"i\"], [0,   1,   1,    0,   1,   2,   2,   0,   1]\n",
        "    Output: ['a', 'd', 'h', 'b', 'c', 'e', 'i', 'f', 'g']\n"
      ],
      "metadata": {
        "id": "N3nNiNLaKDO6"
      }
    },
    {
      "cell_type": "code",
      "source": [
        "def Sort_list1_by_list2(list1,list2):\n",
        "  temp=list(zip(list2,list1))\n",
        "  temp.sort()\n",
        "  output=[]\n",
        "  for x in range(len(temp)):\n",
        "    output.append(temp[x][1])\n",
        "  return output"
      ],
      "metadata": {
        "id": "8-tq3GhAkoVY"
      },
      "execution_count": null,
      "outputs": []
    },
    {
      "cell_type": "code",
      "source": [
        "list1=[\"a\", \"b\", \"c\", \"d\", \"e\", \"f\", \"g\", \"h\", \"i\"]; list2=[0,   1,   1,    0,   1,   2,   2,   0,   1]"
      ],
      "metadata": {
        "id": "vOUpZPatlB9k"
      },
      "execution_count": null,
      "outputs": []
    },
    {
      "cell_type": "code",
      "source": [
        "Sort_list1_by_list2(list1,list2)"
      ],
      "metadata": {
        "colab": {
          "base_uri": "https://localhost:8080/"
        },
        "id": "hPYSkNphlPWk",
        "outputId": "935eb770-831d-4cf5-b98e-9ec17e38a5c2"
      },
      "execution_count": null,
      "outputs": [
        {
          "output_type": "execute_result",
          "data": {
            "text/plain": [
              "['a', 'd', 'h', 'b', 'c', 'e', 'i', 'f', 'g']"
            ]
          },
          "metadata": {},
          "execution_count": 175
        }
      ]
    },
    {
      "cell_type": "markdown",
      "source": [
        "Problem 4: Program for Words Reverse Pairs in list.\n",
        "\n",
        "    Input: [\"skeeg\", \"best\", \"tseb\", \"for\", \"skeeg\", \"skeeg\", \"best\", \"geeks\", \"tseb\"]\n",
        "    Output: 3 Reverse Pairs"
      ],
      "metadata": {
        "id": "_6Tq0cqhKF8s"
      }
    },
    {
      "cell_type": "code",
      "source": [
        "def reverse_pairs(list1):\n",
        "  count=0\n",
        "  for x in list1:\n",
        "    if x[::-1] in list1:\n",
        "      list1.remove(x)\n",
        "      list1.remove(x[::-1])\n",
        "      count+=1\n",
        "  return count, 'Reverse pairs'"
      ],
      "metadata": {
        "id": "2XxvUiPCmhCO"
      },
      "execution_count": null,
      "outputs": []
    },
    {
      "cell_type": "code",
      "source": [
        "list1=[\"skeeg\", \"best\", \"tseb\", \"for\", \"skeeg\", \"skeeg\", \"best\", \"geeks\", \"tseb\"]\n",
        "reverse_pairs(list1)"
      ],
      "metadata": {
        "colab": {
          "base_uri": "https://localhost:8080/"
        },
        "id": "2kisZ5FAnMVY",
        "outputId": "834c9498-3149-4636-f9a6-11d0ee0eb9c0"
      },
      "execution_count": null,
      "outputs": [
        {
          "output_type": "execute_result",
          "data": {
            "text/plain": [
              "(3, 'Reverse pairs')"
            ]
          },
          "metadata": {},
          "execution_count": 177
        }
      ]
    },
    {
      "cell_type": "markdown",
      "source": [
        "# ***Day 7***"
      ],
      "metadata": {
        "id": "ifsyXDUVpqHM"
      }
    },
    {
      "cell_type": "markdown",
      "source": [
        "Problem 1: Program to Remove Row with custom elements.\n",
        "\n",
        "    Input: Test_list = [[5, 3, 1], [7, 8, 9], [1, 10, 22], [12, 18, 21]], N = [3, 10, 19, 29, 20, 15]\n",
        "    Output: [[7, 8, 9], [12, 18, 21]]\n"
      ],
      "metadata": {
        "id": "rn2BEweqp4qE"
      }
    },
    {
      "cell_type": "code",
      "source": [
        "def remove_row_custom_ele(list1,n):\n",
        "  for x in n:\n",
        "    for y in list1:\n",
        "     if x in y:\n",
        "       list1.remove(y)\n",
        "    else:\n",
        "        pass\n",
        "  return list1"
      ],
      "metadata": {
        "id": "IMeFddI9pw7m"
      },
      "execution_count": null,
      "outputs": []
    },
    {
      "cell_type": "code",
      "source": [
        "list1 = [[5, 3, 1], [7, 8, 9], [1, 10, 22], [12, 18, 21]];n = [3, 10, 19, 29, 20, 15]\n",
        "remove_row_custom_ele(list1,n)"
      ],
      "metadata": {
        "colab": {
          "base_uri": "https://localhost:8080/"
        },
        "id": "UYsDk32Pq5tU",
        "outputId": "2be529e4-2630-4d85-ee22-870d67327e33"
      },
      "execution_count": null,
      "outputs": [
        {
          "output_type": "execute_result",
          "data": {
            "text/plain": [
              "[[7, 8, 9], [12, 18, 21]]"
            ]
          },
          "metadata": {},
          "execution_count": 206
        }
      ]
    },
    {
      "cell_type": "markdown",
      "source": [
        "Problem 2: Program for Removing Specific Digit from every element.\n",
        "\n",
        "    Input: [343, 893, 1948, 3433333, 2346], N = 3\n",
        "    Output: ['4', '89', '1948', '4', '246']\n"
      ],
      "metadata": {
        "id": "2ibT2JHaqA1x"
      }
    },
    {
      "cell_type": "code",
      "source": [
        "list1=[343, 893, 1948, 3433333, 2346];n = 3"
      ],
      "metadata": {
        "id": "XBjVVfHjsGCZ"
      },
      "execution_count": null,
      "outputs": []
    },
    {
      "cell_type": "code",
      "source": [
        "def removing_specific_digit(list1,n):\n",
        "  output=[]\n",
        "  n=str(n)\n",
        "  for x in list1:\n",
        "    temp=str(x)    \n",
        "    if n in temp:\n",
        "      out= temp.replace(n,'')\n",
        "      output.append(out)\n",
        "    else:\n",
        "      output.append(temp)\n",
        "  return output\n"
      ],
      "metadata": {
        "id": "F2bFpsIirz6A"
      },
      "execution_count": null,
      "outputs": []
    },
    {
      "cell_type": "code",
      "source": [
        "removing_specific_digit(list1,n)"
      ],
      "metadata": {
        "colab": {
          "base_uri": "https://localhost:8080/"
        },
        "id": "9bFLdiD8tFzJ",
        "outputId": "d1d80b5d-61e6-496c-e37f-8f5f7b3ed782"
      },
      "execution_count": null,
      "outputs": [
        {
          "output_type": "execute_result",
          "data": {
            "text/plain": [
              "['4', '89', '1948', '4', '246']"
            ]
          },
          "metadata": {},
          "execution_count": 248
        }
      ]
    },
    {
      "cell_type": "markdown",
      "source": [
        "Problem 3: Program to print strings Based on Prefix.\n",
        "\n",
        "    Input: Test_list = [\"geeks\", \"peeks\", \"meeks\", \"leeks\", \"mean\"], Prefix_list = [\"ge\", \"ne\", \"me\", \"re\"]\n",
        "    Output: ['geeks', 'meeks', 'mean']\n"
      ],
      "metadata": {
        "id": "ZNcFz0jzqDXP"
      }
    },
    {
      "cell_type": "code",
      "source": [
        "test_list = [\"geeks\", \"peeks\", \"meeks\", \"leeks\", \"mean\"]; prefix_list = [\"ge\", \"ne\", \"me\", \"re\"]"
      ],
      "metadata": {
        "id": "SoGMAdmJ2H4D"
      },
      "execution_count": null,
      "outputs": []
    },
    {
      "cell_type": "code",
      "source": [
        "def strings_based_on_prefix(test_list,prefix_list):\n",
        "  output=[]\n",
        "  for x in test_list:\n",
        "    for y in prefix_list:\n",
        "      if y in x:\n",
        "        if x.index(y)==0:\n",
        "          output.append(x)\n",
        "  return output\n",
        "  \n",
        "        \n",
        "        "
      ],
      "metadata": {
        "id": "rfmfvT871Da-"
      },
      "execution_count": null,
      "outputs": []
    },
    {
      "cell_type": "code",
      "source": [
        "strings_based_on_prefix(test_list,prefix_list)"
      ],
      "metadata": {
        "colab": {
          "base_uri": "https://localhost:8080/"
        },
        "id": "P7uRTjMz2PTb",
        "outputId": "4dad69f1-7938-42d0-ee81-a4a0d4bdc80e"
      },
      "execution_count": null,
      "outputs": [
        {
          "output_type": "execute_result",
          "data": {
            "text/plain": [
              "['geeks', 'meeks', 'mean']"
            ]
          },
          "metadata": {},
          "execution_count": 268
        }
      ]
    },
    {
      "cell_type": "markdown",
      "source": [
        "Problem 4: Program to Swap ith with jth element.\n",
        "\n",
        "    Input: Test_list = [4, 7, 8, 0, 8, 4, 2, 9, 4, 8, 4], i, j = 4, 8\n",
        "    Output: [8, 7, 4, 0, 4, 8, 2, 9, 8, 4, 8]\n"
      ],
      "metadata": {
        "id": "1wnZBsBMqHUW"
      }
    },
    {
      "cell_type": "code",
      "source": [
        "Test_list = [4, 7, 8, 0, 8, 4, 2, 9, 4, 8, 4]; i, j = 4, 8"
      ],
      "metadata": {
        "id": "HG9YHD7U5CQR"
      },
      "execution_count": null,
      "outputs": []
    },
    {
      "cell_type": "code",
      "source": [
        "def swap_ith_with_jth_ele(Test_list,i,j):\n",
        "  Test_tuple=tuple(Test_list)\n",
        "  output=[]\n",
        "  for x in Test_tuple:\n",
        "    if x==i:\n",
        "      output.append(j)\n",
        "    elif x==j:\n",
        "      output.append(i)\n",
        "    else:\n",
        "      output.append(x)\n",
        "  return output"
      ],
      "metadata": {
        "id": "sN14rKYz4P4l"
      },
      "execution_count": null,
      "outputs": []
    },
    {
      "cell_type": "code",
      "source": [
        "swap_ith_with_jth_ele(Test_list,i,j)"
      ],
      "metadata": {
        "colab": {
          "base_uri": "https://localhost:8080/"
        },
        "id": "P-uh25oo5G3D",
        "outputId": "fe4d9701-b38e-4260-c955-903559157ece"
      },
      "execution_count": null,
      "outputs": [
        {
          "output_type": "execute_result",
          "data": {
            "text/plain": [
              "[8, 7, 4, 0, 4, 8, 2, 9, 8, 4, 8]"
            ]
          },
          "metadata": {},
          "execution_count": 279
        }
      ]
    },
    {
      "cell_type": "markdown",
      "source": [
        "# ***Day 8***"
      ],
      "metadata": {
        "id": "8a9AmMAC4YIk"
      }
    },
    {
      "cell_type": "markdown",
      "source": [
        "Problem 1: Program for elements Mutiple of elements in a list.\n",
        "\n",
        "    Input: Test_list = [4, 24, 8, 10, 12, 23], Check_list = [6, 4]\n",
        "    Output: [24, 12]\n"
      ],
      "metadata": {
        "id": "qRjdw2ey4rn_"
      }
    },
    {
      "cell_type": "code",
      "source": [
        "def mutiple_of_elements_list(list1,list2):\n",
        "  output = []\n",
        "  for x in list1:\n",
        "    count = 0\n",
        "    for y in list2:\n",
        "      if x%y == 0:\n",
        "        count +=1\n",
        "    if count == len(list2):\n",
        "      output.append(x)\n",
        "  return output"
      ],
      "metadata": {
        "id": "t0-z0hS9Yniv"
      },
      "execution_count": null,
      "outputs": []
    },
    {
      "cell_type": "code",
      "source": [
        "list1 = [4, 24, 8, 10, 12, 23]; list2 = [4,2]\n"
      ],
      "metadata": {
        "id": "xGzXiLiuZj1d"
      },
      "execution_count": null,
      "outputs": []
    },
    {
      "cell_type": "code",
      "source": [
        "mutiple_of_elements_list(list1,list2)"
      ],
      "metadata": {
        "colab": {
          "base_uri": "https://localhost:8080/"
        },
        "id": "0mOczWU3Ztlk",
        "outputId": "771b6882-1479-4237-d0bd-25e51b13293d"
      },
      "execution_count": null,
      "outputs": [
        {
          "output_type": "execute_result",
          "data": {
            "text/plain": [
              "[4, 24, 8, 12]"
            ]
          },
          "metadata": {},
          "execution_count": 9
        }
      ]
    },
    {
      "cell_type": "markdown",
      "source": [
        "Problem 2: Program to print element with Maximum Vowel in a list.\n",
        "\n",
        "    Input: [\"gfg\", \"beaeioust\", \"for\", \"geeks\"]\n",
        "    Output: beaeioust\n"
      ],
      "metadata": {
        "id": "kyRtTgYf42SZ"
      }
    },
    {
      "cell_type": "code",
      "source": [
        "def ele_with_max_vowel(list1):\n",
        "  dict1={}\n",
        "  for x in list1:\n",
        "    a=x.count('a')\n",
        "    e=x.count('e')\n",
        "    i=x.count('i')\n",
        "    o=x.count('o')\n",
        "    u=x.count('u')\n",
        "    vowel= a+e+i+o+u\n",
        "    dict1[x] = vowel\n",
        "  list1_ele = list(dict1.keys())\n",
        "  list1_vowel= list(dict1.values())\n",
        "  output = list1_ele[list1_vowel.index(max(list1_vowel))]\n",
        "\n",
        "  return output\n",
        "    "
      ],
      "metadata": {
        "id": "Of5CyFiVZ8y3"
      },
      "execution_count": null,
      "outputs": []
    },
    {
      "cell_type": "code",
      "source": [
        "list1 = [\"gfg\", \"beaeioust\", \"for\", \"geeks\"]"
      ],
      "metadata": {
        "id": "2yc4mdVkbNqz"
      },
      "execution_count": null,
      "outputs": []
    },
    {
      "cell_type": "code",
      "source": [
        "ele_with_max_vowel(list1)"
      ],
      "metadata": {
        "colab": {
          "base_uri": "https://localhost:8080/",
          "height": 36
        },
        "id": "ZU6o2hNPbUdO",
        "outputId": "2b453087-f0ae-48f7-9b1f-9a0cc3f23e5b"
      },
      "execution_count": null,
      "outputs": [
        {
          "output_type": "execute_result",
          "data": {
            "text/plain": [
              "'beaeioust'"
            ],
            "application/vnd.google.colaboratory.intrinsic+json": {
              "type": "string"
            }
          },
          "metadata": {},
          "execution_count": 82
        }
      ]
    },
    {
      "cell_type": "markdown",
      "source": [
        "Problem 3: Program for Occurrences of i before first j in a list.\n",
        "\n",
        "    Input: Test_list = [4, 5, 6, 4, 1, 4, 8, 5, 4, 3, 4, 9], i, j = 4, 8\n",
        "    Output: 4 Occurs 3 times before 8 Occur\n"
      ],
      "metadata": {
        "id": "4gCfhYAm45ZB"
      }
    },
    {
      "cell_type": "code",
      "source": [
        "def occurrences_of_i_before_first_j(Test_list,i,j):\n",
        "  if i==j:\n",
        "    return 'i and j cannot be same'\n",
        "  \n",
        "\n",
        "  count = 0\n",
        "  for x in Test_list:\n",
        "    if x==j:\n",
        "      break\n",
        "    if x==i:\n",
        "      count+=1\n",
        "  return print(f'{i} Occurs {count} times before {j} Occur')"
      ],
      "metadata": {
        "id": "D_3E-eUxls3m"
      },
      "execution_count": null,
      "outputs": []
    },
    {
      "cell_type": "code",
      "source": [
        "Test_list = [4,4, 5, 6, 4, 1, 4, 8, 5, 4, 3, 4, 9]; i, j = 4, 9"
      ],
      "metadata": {
        "id": "bY0wuCxFm9Mn"
      },
      "execution_count": null,
      "outputs": []
    },
    {
      "cell_type": "code",
      "source": [
        "occurrences_of_i_before_first_j(Test_list,i,j)"
      ],
      "metadata": {
        "colab": {
          "base_uri": "https://localhost:8080/"
        },
        "id": "M2dce-JCnB9-",
        "outputId": "f4789f73-13a7-4fbb-fc85-cea2397eaea6"
      },
      "execution_count": null,
      "outputs": [
        {
          "output_type": "stream",
          "name": "stdout",
          "text": [
            "4 Occurs 6 times before 9 Occur\n"
          ]
        }
      ]
    },
    {
      "cell_type": "markdown",
      "source": [
        "Problem 4: Program to Sort Row by frequency of key.\n",
        "\n",
        "    Input: [[10, 2, 3, 2, 3], [5, 5, 4, 7, 7, 4], [1, 2], [1, 1, 2, 2, 2]], n = 2\n",
        "    Output: [[5, 5, 4, 7, 7, 4], [1, 2], [10, 2, 3, 2, 3], [1, 1, 2, 2, 2]]"
      ],
      "metadata": {
        "id": "Fet8Ck1h5Gmm"
      }
    },
    {
      "cell_type": "code",
      "source": [
        "list1 = [[10, 2, 3, 2, 3], [5, 5, 4, 7, 7, 4], [1, 2], [1, 1, 2, 2, 2]]; n = 2"
      ],
      "metadata": {
        "id": "l7v-XP5upPO0"
      },
      "execution_count": null,
      "outputs": []
    },
    {
      "cell_type": "code",
      "source": [
        "def sort_row_by_frequency_of_key(list1,n):\n",
        "  output = []\n",
        "  temp=[]\n",
        "  for x in list1:\n",
        "    temp.append(x.count(n))\n",
        "  zip_list1_freq = list(zip(temp,list1))\n",
        "  zip_list1_freq.sort()\n",
        "  for x in zip_list1_freq:\n",
        "    output.append(x[1])\n",
        "  return output"
      ],
      "metadata": {
        "id": "dh0N9X1O5Hkt"
      },
      "execution_count": null,
      "outputs": []
    },
    {
      "cell_type": "code",
      "source": [
        "sort_row_by_frequency_of_key(list1,n)"
      ],
      "metadata": {
        "colab": {
          "base_uri": "https://localhost:8080/"
        },
        "id": "vugv3AKDpNIv",
        "outputId": "a0ae0248-9bb9-4dac-9fa5-d63154eeb29d"
      },
      "execution_count": null,
      "outputs": [
        {
          "output_type": "execute_result",
          "data": {
            "text/plain": [
              "[[5, 5, 4, 7, 7, 4], [1, 2], [10, 2, 3, 2, 3], [1, 1, 2, 2, 2]]"
            ]
          },
          "metadata": {},
          "execution_count": 112
        }
      ]
    },
    {
      "cell_type": "markdown",
      "source": [
        "# ***Day 9***"
      ],
      "metadata": {
        "id": "QJIou8lo5dxl"
      }
    },
    {
      "cell_type": "markdown",
      "source": [
        "Problem 1: Program to Add Two Matrix.\n",
        "\n",
        "    Input: X = [[1, 2, 3],\n",
        "    \t\t[4, 5, 6],\n",
        "     \t\t[7, 8, 9]]\n",
        "\n",
        "\t    Y = [[9, 8, 7],\n",
        "    \t\t[6, 5, 4],\n",
        "     \t\t[3, 2, 1]]\n",
        "    Output: [10, 10, 10, 10, 10, 10, 10, 10, 10]\n"
      ],
      "metadata": {
        "id": "7PEWw_AO9gBu"
      }
    },
    {
      "cell_type": "code",
      "source": [
        "x = [[1, 2, 3],\n",
        "        [4, 5, 6],\n",
        "         [7, 8, 9]]\n",
        "y= [[9, 8, 7],\n",
        "        [6, 5, 4],\n",
        "         [3, 2, 1]]"
      ],
      "metadata": {
        "id": "I8EGnumJtebK"
      },
      "execution_count": null,
      "outputs": []
    },
    {
      "cell_type": "code",
      "source": [
        "import numpy as np\n"
      ],
      "metadata": {
        "id": "h6yCNBsOqace"
      },
      "execution_count": null,
      "outputs": []
    },
    {
      "cell_type": "code",
      "source": [
        "def add_2_matrix(x,y):\n",
        "  x=np.array(x)\n",
        "  y=np.array(y)\n",
        "  output = x+y\n",
        "  return output.flatten()"
      ],
      "metadata": {
        "id": "IoGjgYHmqeF3"
      },
      "execution_count": null,
      "outputs": []
    },
    {
      "cell_type": "code",
      "source": [
        "add_2_matrix(x,y)"
      ],
      "metadata": {
        "colab": {
          "base_uri": "https://localhost:8080/"
        },
        "id": "GzLL9Q2-q7li",
        "outputId": "d611f332-fa29-4183-c9e3-c4a1758c7445"
      },
      "execution_count": null,
      "outputs": [
        {
          "output_type": "execute_result",
          "data": {
            "text/plain": [
              "array([10, 10, 10, 10, 10, 10, 10, 10, 10])"
            ]
          },
          "metadata": {},
          "execution_count": 120
        }
      ]
    },
    {
      "cell_type": "markdown",
      "source": [
        "Problem 2: Program to Multiply Two Matrix.\n",
        "\n",
        "    Input: A = [[12, 7, 3], [4, 5, 6], [7, 8, 9]], B = [[5, 8, 1, 2], [6, 7, 3, 0], [4, 5, 9, 1]]\n",
        "    Output: [[114, 160, 60, 27], [74, 97, 73, 14], [119, 157, 112, 23]]\n"
      ],
      "metadata": {
        "id": "wvl28muH9s_y"
      }
    },
    {
      "cell_type": "code",
      "source": [
        "A = [[12, 7, 3], [4, 5, 6], [7, 8, 9]]; B = [[5, 8, 1, 2], [6, 7, 3, 0], [4, 5, 9, 1]]"
      ],
      "metadata": {
        "id": "7gZo6YfIzxxk"
      },
      "execution_count": null,
      "outputs": []
    },
    {
      "cell_type": "code",
      "source": [
        "import numpy as np"
      ],
      "metadata": {
        "id": "cwmlRFA7z2PM"
      },
      "execution_count": null,
      "outputs": []
    },
    {
      "cell_type": "code",
      "source": [
        "def multiply_2_matrix(A,B):\n",
        "  a=np.array(A)\n",
        "  b=np.array(B)\n",
        "  return a*b"
      ],
      "metadata": {
        "id": "xX5Yn30iz7o_"
      },
      "execution_count": null,
      "outputs": []
    },
    {
      "cell_type": "code",
      "source": [
        "multiply_2_matrix(A,B)"
      ],
      "metadata": {
        "colab": {
          "base_uri": "https://localhost:8080/",
          "height": 264
        },
        "id": "vyChEwoO0Omc",
        "outputId": "d7fa79c2-01f9-43a2-8393-1ed6c48c3fc7"
      },
      "execution_count": null,
      "outputs": [
        {
          "output_type": "error",
          "ename": "ValueError",
          "evalue": "ignored",
          "traceback": [
            "\u001b[0;31m---------------------------------------------------------------------------\u001b[0m",
            "\u001b[0;31mValueError\u001b[0m                                Traceback (most recent call last)",
            "\u001b[0;32m<ipython-input-65-c4c4f1eb005f>\u001b[0m in \u001b[0;36m<module>\u001b[0;34m()\u001b[0m\n\u001b[0;32m----> 1\u001b[0;31m \u001b[0mmultiply_2_matrix\u001b[0m\u001b[0;34m(\u001b[0m\u001b[0mA\u001b[0m\u001b[0;34m,\u001b[0m\u001b[0mB\u001b[0m\u001b[0;34m)\u001b[0m\u001b[0;34m\u001b[0m\u001b[0;34m\u001b[0m\u001b[0m\n\u001b[0m",
            "\u001b[0;32m<ipython-input-64-bc13cac3c3d9>\u001b[0m in \u001b[0;36mmultiply_2_matrix\u001b[0;34m(A, B)\u001b[0m\n\u001b[1;32m      2\u001b[0m   \u001b[0ma\u001b[0m\u001b[0;34m=\u001b[0m\u001b[0mnp\u001b[0m\u001b[0;34m.\u001b[0m\u001b[0marray\u001b[0m\u001b[0;34m(\u001b[0m\u001b[0mA\u001b[0m\u001b[0;34m)\u001b[0m\u001b[0;34m\u001b[0m\u001b[0;34m\u001b[0m\u001b[0m\n\u001b[1;32m      3\u001b[0m   \u001b[0mb\u001b[0m\u001b[0;34m=\u001b[0m\u001b[0mnp\u001b[0m\u001b[0;34m.\u001b[0m\u001b[0marray\u001b[0m\u001b[0;34m(\u001b[0m\u001b[0mB\u001b[0m\u001b[0;34m)\u001b[0m\u001b[0;34m\u001b[0m\u001b[0;34m\u001b[0m\u001b[0m\n\u001b[0;32m----> 4\u001b[0;31m   \u001b[0;32mreturn\u001b[0m \u001b[0ma\u001b[0m\u001b[0;34m*\u001b[0m\u001b[0mb\u001b[0m\u001b[0;34m\u001b[0m\u001b[0;34m\u001b[0m\u001b[0m\n\u001b[0m",
            "\u001b[0;31mValueError\u001b[0m: operands could not be broadcast together with shapes (3,3) (3,4) "
          ]
        }
      ]
    },
    {
      "cell_type": "markdown",
      "source": [
        "Problem 3: Program for Product of all elements in Matrix.\n",
        "\n",
        "    Input: [[1, 4, 5], [7, 3], [4], [46, 7, 3]]\n",
        "    Output: 1622880\n"
      ],
      "metadata": {
        "id": "BEPTXLQx9vxm"
      }
    },
    {
      "cell_type": "code",
      "source": [
        "input_list = [[1, 4, 5], [7, 3], [4], [46, 7, 3]]\n",
        "output=[]"
      ],
      "metadata": {
        "id": "vgPLCouxYanU"
      },
      "execution_count": null,
      "outputs": []
    },
    {
      "cell_type": "code",
      "source": [
        "def flatten(input_list,output):\n",
        "  \n",
        "  for x in range(len(input_list)):\n",
        "\n",
        "    if type(input_list[x])==list:      \n",
        "      flatten(input_list[x],output)\n",
        "    else:\n",
        "      output.append(input_list[x])\n",
        "  return output\n",
        "\n",
        "def  prod_of_all_ele_in_matrix(input_list):\n",
        "  output = []\n",
        "  flatten(input_list,output)\n",
        "  result=1\n",
        "  for x in output:\n",
        "    result*=x\n",
        "  return result"
      ],
      "metadata": {
        "id": "HDC1TZ1iYt2n"
      },
      "execution_count": null,
      "outputs": []
    },
    {
      "cell_type": "code",
      "source": [
        "prod_of_all_ele_in_matrix(input_list)"
      ],
      "metadata": {
        "colab": {
          "base_uri": "https://localhost:8080/"
        },
        "id": "LmQFDXi_bQr2",
        "outputId": "b8d664bf-f6bf-4f48-b6fd-ebcd99e5d329"
      },
      "execution_count": null,
      "outputs": [
        {
          "output_type": "execute_result",
          "data": {
            "text/plain": [
              "1622880"
            ]
          },
          "metadata": {},
          "execution_count": 58
        }
      ]
    },
    {
      "cell_type": "markdown",
      "source": [
        "Problem 4: Program to Transpose a Matrix.\n",
        "\n",
        "    Input: [[12, 7], [4, 5], [3, 8]]\n",
        "    Output: [12, 4, 3]\n",
        "\t     [7, 5, 8]"
      ],
      "metadata": {
        "id": "-v0a8z1R9zH5"
      }
    },
    {
      "cell_type": "code",
      "source": [
        "def transpose_matrix(input):\n",
        "  result =[]\n",
        "  for x in range(len(input[0])):\n",
        "    result.append([])\n",
        "    for y in range(len(input)):\n",
        "      result[x].append(input[y][x])\n",
        "  return result"
      ],
      "metadata": {
        "id": "zXuZbtrSgWKm"
      },
      "execution_count": null,
      "outputs": []
    },
    {
      "cell_type": "code",
      "source": [
        "input=[[12, 7], [4, 5], [3, 8],[10,11]]\n",
        "transpose_matrix(input)"
      ],
      "metadata": {
        "colab": {
          "base_uri": "https://localhost:8080/"
        },
        "id": "Z9_zD_tBhJhZ",
        "outputId": "fc47425b-610c-4d5e-f3b4-e33a131c1f66"
      },
      "execution_count": null,
      "outputs": [
        {
          "output_type": "execute_result",
          "data": {
            "text/plain": [
              "[[12, 4, 3, 10], [7, 5, 8, 11]]"
            ]
          },
          "metadata": {},
          "execution_count": 106
        }
      ]
    },
    {
      "cell_type": "markdown",
      "source": [
        "# ***Day 10***"
      ],
      "metadata": {
        "id": "6p5KSQXd9-rt"
      }
    },
    {
      "cell_type": "markdown",
      "source": [
        "Problem 1: Program for Kth Element in Matrix.\n",
        "\n",
        "    Input: Test_list = [[4, 5, 6],\n",
        "                        [8, 1, 10],\n",
        "             \t        [7, 12, 5]]\n",
        "            K = 2\n",
        "    Output: [5, 1, 12]\n"
      ],
      "metadata": {
        "id": "-nUF4J8d-Ck3"
      }
    },
    {
      "cell_type": "code",
      "source": [
        "def Kth_Element_in_Matrix(test_list,k):\n",
        "  output=[]\n",
        "  for x in range(len(test_list)):\n",
        "    output.append(test_list[x][k-1])\n",
        "  return output"
      ],
      "metadata": {
        "id": "doQ_fIIGld7I"
      },
      "execution_count": null,
      "outputs": []
    },
    {
      "cell_type": "code",
      "source": [
        "test_list = [[4, 5, 6],\n",
        "                    [8, 1, 10],\n",
        "                     [7, 12, 5]]\n",
        "k=2"
      ],
      "metadata": {
        "id": "VO04b3bSmJdU"
      },
      "execution_count": null,
      "outputs": []
    },
    {
      "cell_type": "code",
      "source": [
        "Kth_Element_in_Matrix(test_list,k)"
      ],
      "metadata": {
        "colab": {
          "base_uri": "https://localhost:8080/"
        },
        "id": "7STWceBgmRpt",
        "outputId": "c6daa883-eb48-4062-cb58-4cfad4c76853"
      },
      "execution_count": null,
      "outputs": [
        {
          "output_type": "execute_result",
          "data": {
            "text/plain": [
              "[5, 1, 12]"
            ]
          },
          "metadata": {},
          "execution_count": 117
        }
      ]
    },
    {
      "cell_type": "markdown",
      "source": [
        "Problem 1: Program for String Palindrome.\n",
        "\n",
        "    Input: amma\n",
        "    Output: Palindrome String\n",
        "    \n",
        "    Input: code\n",
        "    Output: Not a Palindrome String\n"
      ],
      "metadata": {
        "id": "9z0ELmXb-Ket"
      }
    },
    {
      "cell_type": "code",
      "source": [
        "def String_Palindrome(Input):\n",
        "  check = ''\n",
        "  for x in range(-1,-(len(Input)+1),-1):\n",
        "    check = check + Input[x]\n",
        "  \n",
        "  if Input==check:\n",
        "    return 'Palindrome String'  \n",
        "  else:\n",
        "    return 'Not a Palindrome String'"
      ],
      "metadata": {
        "id": "AYOrz2gtnAsI"
      },
      "execution_count": null,
      "outputs": []
    },
    {
      "cell_type": "code",
      "source": [
        "String_Palindrome(\"amma\")"
      ],
      "metadata": {
        "colab": {
          "base_uri": "https://localhost:8080/",
          "height": 36
        },
        "id": "uxPEUvDmnn5R",
        "outputId": "5dcbf5e2-e167-41fd-a18c-cb5faa0c2ab0"
      },
      "execution_count": null,
      "outputs": [
        {
          "output_type": "execute_result",
          "data": {
            "text/plain": [
              "'Palindrome String'"
            ],
            "application/vnd.google.colaboratory.intrinsic+json": {
              "type": "string"
            }
          },
          "metadata": {},
          "execution_count": 126
        }
      ]
    },
    {
      "cell_type": "markdown",
      "source": [
        "Problem 1: Program to check whether string is Symmetric or Palindrome.\n",
        "\n",
        "    Input: amam\n",
        "    Output: Symmetric and Not Palindrome\n",
        "    \n",
        "    Input: amaama\n",
        "    Output: Symmetric and Palindrome\n"
      ],
      "metadata": {
        "id": "8Vr2OZ2b-OOX"
      }
    },
    {
      "cell_type": "code",
      "source": [
        "def symmetric_or_palindrome(input):\n",
        "  a = String_Palindrome(input)\n",
        "  len_input = len(input)\n",
        "  if input[int((len_input/2)):] == input[:int((len_input/2))]:\n",
        "    return print(f'Symmetric and {a}')\n",
        "  else:\n",
        "    return print(f'not symmetric and {a}')"
      ],
      "metadata": {
        "id": "5GjfRWqwoAda"
      },
      "execution_count": null,
      "outputs": []
    },
    {
      "cell_type": "code",
      "source": [
        "symmetric_or_palindrome('amaama')"
      ],
      "metadata": {
        "colab": {
          "base_uri": "https://localhost:8080/"
        },
        "id": "qdcXMrLVq93R",
        "outputId": "c7dd072e-4c09-4192-e110-d5a7ccc2a1d5"
      },
      "execution_count": null,
      "outputs": [
        {
          "output_type": "stream",
          "name": "stdout",
          "text": [
            "Symmetric and Palindrome String\n"
          ]
        }
      ]
    },
    {
      "cell_type": "markdown",
      "source": [
        "Problem 1: Program for Vertical Concatenation of Matrix.\n",
        "\n",
        "    Input: [[\"Gfg\", \"good\"], [\"is\", \"for\"], [\"Best\"]]\n",
        "    Output: ['GfgisBest', 'goodfor', '']"
      ],
      "metadata": {
        "id": "BDd9R-r3-TJA"
      }
    },
    {
      "cell_type": "code",
      "source": [
        "list1 = [[\"Gfg\", \"good\"], [\"is\", \"for\"], [\"Best\"]]"
      ],
      "metadata": {
        "id": "3wdyQT3SudD-"
      },
      "execution_count": null,
      "outputs": []
    },
    {
      "cell_type": "code",
      "source": [
        "def Vertical_Concatenation_of_Matrix(list1):\n",
        "  output = []\n",
        "  for x in range(len(list1[0])):\n",
        "    output.append('')\n",
        "    for y in range(len(list1)):\n",
        "      try:\n",
        "        output[x]+=list1[y][x]\n",
        "      except:\n",
        "        pass\n",
        "  return output"
      ],
      "metadata": {
        "id": "8RCOtbUzsyzU"
      },
      "execution_count": null,
      "outputs": []
    },
    {
      "cell_type": "code",
      "source": [
        "Vertical_Concatenation_of_Matrix(list1)"
      ],
      "metadata": {
        "colab": {
          "base_uri": "https://localhost:8080/"
        },
        "id": "xI3JS4fsuVy-",
        "outputId": "bc8096b4-df3c-4a8a-d67c-06a8109aa79a"
      },
      "execution_count": null,
      "outputs": [
        {
          "output_type": "execute_result",
          "data": {
            "text/plain": [
              "['GfgisBest', 'goodfor']"
            ]
          },
          "metadata": {},
          "execution_count": 149
        }
      ]
    },
    {
      "cell_type": "markdown",
      "source": [
        "# ***Day 11***"
      ],
      "metadata": {
        "id": "n5j4K192vzLq"
      }
    },
    {
      "cell_type": "markdown",
      "source": [
        "Problem 1: Program to Remove Duplicates from a List.\n",
        "\n",
        "    Input: [1, 1, 2, 2, 3, 3, 4, 4, 5, 5, 6, 6]\n",
        "    Output: [1, 2, 3, 4, 5, 6]\n"
      ],
      "metadata": {
        "id": "6bwQdBWTv3FJ"
      }
    },
    {
      "cell_type": "code",
      "source": [
        "def Remove_Duplicates_from_List(list1):\n",
        "  list_set = set(list1)\n",
        "  output = list(list_set)\n",
        "  return output"
      ],
      "metadata": {
        "id": "uQFGv1zEv8e0"
      },
      "execution_count": null,
      "outputs": []
    },
    {
      "cell_type": "code",
      "source": [
        "list1 = [1, 1, 2, 2, 3, 3, 4, 4, 5, 5, 6, 6]"
      ],
      "metadata": {
        "id": "VgcQDO7J9xgY"
      },
      "execution_count": null,
      "outputs": []
    },
    {
      "cell_type": "code",
      "source": [
        "Remove_Duplicates_from_List(list1)"
      ],
      "metadata": {
        "colab": {
          "base_uri": "https://localhost:8080/"
        },
        "id": "-WaCowq791C6",
        "outputId": "cf720411-61e2-4fdf-a273-4860a810db5e"
      },
      "execution_count": null,
      "outputs": [
        {
          "output_type": "execute_result",
          "data": {
            "text/plain": [
              "[1, 2, 3, 4, 5, 6]"
            ]
          },
          "metadata": {},
          "execution_count": 154
        }
      ]
    },
    {
      "cell_type": "markdown",
      "source": [
        "Problem 2: Program to Remove Particular Character.\n",
        "\n",
        "    Input: Hey! There satyam here, K = !\n",
        "    Output: Hey There satyam here\n"
      ],
      "metadata": {
        "id": "Zd8hBQwov9Ar"
      }
    },
    {
      "cell_type": "code",
      "source": [
        "def Remove_Particular_Character(string,k):\n",
        "  output =''\n",
        "  for x in string:\n",
        "    if x!=k:\n",
        "      output=output+x\n",
        "  return output"
      ],
      "metadata": {
        "id": "1k2hRBjV-IJ7"
      },
      "execution_count": null,
      "outputs": []
    },
    {
      "cell_type": "code",
      "source": [
        "string = 'Hey! There satyam here'; k = '!'\n",
        "Remove_Particular_Character(string,k)"
      ],
      "metadata": {
        "colab": {
          "base_uri": "https://localhost:8080/",
          "height": 36
        },
        "id": "QuBAwncxwAOZ",
        "outputId": "fe4d7f12-2ec2-4684-8bee-383c0318b8f6"
      },
      "execution_count": null,
      "outputs": [
        {
          "output_type": "execute_result",
          "data": {
            "text/plain": [
              "'Hey There satyam here'"
            ],
            "application/vnd.google.colaboratory.intrinsic+json": {
              "type": "string"
            }
          },
          "metadata": {},
          "execution_count": 158
        }
      ]
    },
    {
      "cell_type": "markdown",
      "source": [
        "Problem 3: Program to Reverse Words of string.\n",
        "\n",
        "    Input: 100 Days of Code Challenge\n",
        "    Output: Challenge Code of Days 100\n"
      ],
      "metadata": {
        "id": "b3Q563V4v_z4"
      }
    },
    {
      "cell_type": "code",
      "source": [
        "def Reverse_Words_of_string(string):\n",
        "  List_string=string.split(' ')\n",
        "  output=''\n",
        "  for x in range(-1,-len(List_string)-1,-1):\n",
        "    output= output + List_string[x] + ' '\n",
        "  return output"
      ],
      "metadata": {
        "id": "1CWFayGXwFbm"
      },
      "execution_count": null,
      "outputs": []
    },
    {
      "cell_type": "code",
      "source": [
        "string = '100 Days of Code Challenge'\n",
        "Reverse_Words_of_string(string)"
      ],
      "metadata": {
        "colab": {
          "base_uri": "https://localhost:8080/",
          "height": 36
        },
        "id": "3BCWmhIY_Y5_",
        "outputId": "5b6add60-1850-4bd1-ec2a-4e1dbaa3b71b"
      },
      "execution_count": null,
      "outputs": [
        {
          "output_type": "execute_result",
          "data": {
            "text/plain": [
              "'Challenge Code of Days 100 '"
            ],
            "application/vnd.google.colaboratory.intrinsic+json": {
              "type": "string"
            }
          },
          "metadata": {},
          "execution_count": 168
        }
      ]
    },
    {
      "cell_type": "markdown",
      "source": [
        "Problem 4: Program to Convert Snake Case to Pascal case.\n",
        "\n",
        "    Input: 100 days of code challenge\n",
        "    Output: 100DaysOfCodeChallenge\n"
      ],
      "metadata": {
        "id": "vzlMGBcZwFvY"
      }
    },
    {
      "cell_type": "code",
      "source": [
        "def Snake_to_Pascal_case(string):\n",
        "  list_string = string.split(' ')\n",
        "  temp = []\n",
        "  \n",
        "  for x in list_string:\n",
        "    x=str(x)\n",
        "    z = x[0].upper()\n",
        "    for y in range(1,len(x)):  \n",
        "      z=z+x[y]\n",
        "    temp.append(z)\n",
        "  output = ''\n",
        "  for y in temp:\n",
        "    output = output + y\n",
        "  return output"
      ],
      "metadata": {
        "id": "4qVOzBwq_0Uf"
      },
      "execution_count": null,
      "outputs": []
    },
    {
      "cell_type": "code",
      "source": [
        "string = '100 days of code challenge'\n",
        "Snake_to_Pascal_case(string)"
      ],
      "metadata": {
        "colab": {
          "base_uri": "https://localhost:8080/",
          "height": 36
        },
        "id": "n7GZEqBNA7lh",
        "outputId": "ad542f28-42d7-486f-b73b-7af6543e81ef"
      },
      "execution_count": null,
      "outputs": [
        {
          "output_type": "execute_result",
          "data": {
            "text/plain": [
              "'100DaysOfCodeChallenge'"
            ],
            "application/vnd.google.colaboratory.intrinsic+json": {
              "type": "string"
            }
          },
          "metadata": {},
          "execution_count": 200
        }
      ]
    },
    {
      "cell_type": "markdown",
      "source": [
        "Problem 5: Program to Find word with Maximum Frequency.\n",
        "\n",
        "    Input: hey you yeah you where are you\n",
        "    Output: you"
      ],
      "metadata": {
        "id": "BGIsbWq-wH12"
      }
    },
    {
      "cell_type": "code",
      "source": [
        "string = 'hey you yeah you where are you'"
      ],
      "metadata": {
        "id": "vvdmhdeQEb1g"
      },
      "execution_count": null,
      "outputs": []
    },
    {
      "cell_type": "code",
      "source": [
        "def word_with_Maximum_Frequency(string):\n",
        "  list_string=string.split(' ')\n",
        "  dict_string ={}\n",
        "  for x in list_string:\n",
        "    dict_string[x]=list_string.count(x)\n",
        "  word = list(dict_string.keys())\n",
        "  frequency = list(dict_string.values())\n",
        "  max_f= max(frequency)\n",
        "  max_f_w = word[frequency.index(max_f)]\n",
        "  return max_f_w"
      ],
      "metadata": {
        "id": "uFzw_o7LwIaz"
      },
      "execution_count": null,
      "outputs": []
    },
    {
      "cell_type": "code",
      "source": [
        "word_with_Maximum_Frequency(string)"
      ],
      "metadata": {
        "colab": {
          "base_uri": "https://localhost:8080/",
          "height": 36
        },
        "id": "OwlPcVXoEYlU",
        "outputId": "d4c32a2e-858a-471d-8016-a132ccf5c713"
      },
      "execution_count": null,
      "outputs": [
        {
          "output_type": "execute_result",
          "data": {
            "text/plain": [
              "'you'"
            ],
            "application/vnd.google.colaboratory.intrinsic+json": {
              "type": "string"
            }
          },
          "metadata": {},
          "execution_count": 206
        }
      ]
    },
    {
      "cell_type": "markdown",
      "source": [
        "# ***Day 12***"
      ],
      "metadata": {
        "id": "YX2pYta0FRXb"
      }
    },
    {
      "cell_type": "markdown",
      "source": [
        "Problem 1: Program for Even length String.\n",
        "\n",
        "    Input: 100 Days of Code Challenge\n",
        "    Output: Days, of, Code\n"
      ],
      "metadata": {
        "id": "qbsBpc39FUuC"
      }
    },
    {
      "cell_type": "code",
      "source": [
        "def Even_length_String(string):\n",
        "  list_string = string.split(' ')\n",
        "  output =' '\n",
        "  for x in list_string:\n",
        "    if len(x)%2==0:\n",
        "      output = output+x + ' '\n",
        "  return output"
      ],
      "metadata": {
        "id": "T8Y9DlCbFyWQ"
      },
      "execution_count": null,
      "outputs": []
    },
    {
      "cell_type": "code",
      "source": [
        "string = '100 Days of Code Challenge'\n",
        "Even_length_String(string)"
      ],
      "metadata": {
        "colab": {
          "base_uri": "https://localhost:8080/",
          "height": 36
        },
        "id": "8oMXJMdwGQZ-",
        "outputId": "14eb733d-cb71-4937-f64b-45743367ae9b"
      },
      "execution_count": null,
      "outputs": [
        {
          "output_type": "execute_result",
          "data": {
            "text/plain": [
              "' Days of Code '"
            ],
            "application/vnd.google.colaboratory.intrinsic+json": {
              "type": "string"
            }
          },
          "metadata": {},
          "execution_count": 210
        }
      ]
    },
    {
      "cell_type": "markdown",
      "source": [
        "Problem 2: Program for least Frequency Character.\n",
        "\n",
        "    Input: this is github challenge\n",
        "    Output: u\n"
      ],
      "metadata": {
        "id": "ct3TZkZ0Fa8l"
      }
    },
    {
      "cell_type": "code",
      "source": [
        "def least_Frequency_Character(string):\n",
        "  new_string=string.replace(' ','')\n",
        "  list_new_string = list(new_string)\n",
        "\n",
        "  dict_string = {}\n",
        "  for x in list_new_string:\n",
        "    dict_string[x]=list_new_string.count(x)\n",
        "  string_list = list(dict_string.keys())\n",
        "  string_freq = list(dict_string.values())\n",
        "\n",
        "  return string_list[string_freq.index(min(string_freq))]"
      ],
      "metadata": {
        "id": "ggC_ANIOGdp1"
      },
      "execution_count": null,
      "outputs": []
    },
    {
      "cell_type": "code",
      "source": [
        "string = 'this is github challenge'"
      ],
      "metadata": {
        "id": "xDZ5Ts4-G0WX"
      },
      "execution_count": null,
      "outputs": []
    },
    {
      "cell_type": "code",
      "source": [
        "least_Frequency_Character(string)\n"
      ],
      "metadata": {
        "colab": {
          "base_uri": "https://localhost:8080/",
          "height": 36
        },
        "id": "Ecc-996rG4cI",
        "outputId": "696bc4e9-f0cf-4141-8a06-22d2289dcc35"
      },
      "execution_count": null,
      "outputs": [
        {
          "output_type": "execute_result",
          "data": {
            "text/plain": [
              "'u'"
            ],
            "application/vnd.google.colaboratory.intrinsic+json": {
              "type": "string"
            }
          },
          "metadata": {},
          "execution_count": 251
        }
      ]
    },
    {
      "cell_type": "markdown",
      "source": [
        "Problem 3: Program for Matching Characters in string.\n",
        "\n",
        "    Input: F1 = 100 Days of Code Challenge, F2 = Code Challenge\n",
        "    Output: Code Challenge\n",
        "\n"
      ],
      "metadata": {
        "id": "Qlf22LxnFfC3"
      }
    },
    {
      "cell_type": "code",
      "source": [
        "def Matching_Characters(F1,F2):\n",
        "  list_F1 = F1.split(' ')\n",
        "  list_F2 = F2.split(' ')\n",
        "  output =''\n",
        "  for x in list_F1:\n",
        "    for y in list_F2:\n",
        "      if x==y:\n",
        "        output = output+' '+x\n",
        "\n",
        "  return output"
      ],
      "metadata": {
        "id": "VGvd4Dn7JiUG"
      },
      "execution_count": null,
      "outputs": []
    },
    {
      "cell_type": "code",
      "source": [
        "F1 =\" 100 Days of Code Challenge\"; F2 = \"Code Challenge\"\n",
        "Matching_Characters(F1,F2)"
      ],
      "metadata": {
        "colab": {
          "base_uri": "https://localhost:8080/",
          "height": 36
        },
        "id": "niTkHheuJ8WW",
        "outputId": "85804b2b-c3f0-4bb6-c4b6-12b10fc26156"
      },
      "execution_count": null,
      "outputs": [
        {
          "output_type": "execute_result",
          "data": {
            "text/plain": [
              "' Code Challenge'"
            ],
            "application/vnd.google.colaboratory.intrinsic+json": {
              "type": "string"
            }
          },
          "metadata": {},
          "execution_count": 257
        }
      ]
    },
    {
      "cell_type": "markdown",
      "source": [
        "Problem 4: Program to print String with Vowels.\n",
        "\n",
        "    Input: Github Challenge\n",
        "    Output: Not Accepted\n",
        "    \n",
        "    Input: aaoaao\n",
        "    Output: Accepted"
      ],
      "metadata": {
        "id": "bMsyee7ZFh1H"
      }
    },
    {
      "cell_type": "code",
      "source": [
        "def String_with_Vowels(string):\n",
        "  count = 0\n",
        "  for x in string:\n",
        "    if x=='a' or x=='e' or x=='i' or x=='o' or x=='u':\n",
        "      count+=1\n",
        "  if count == len(string):\n",
        "    return 'Accepted'\n",
        "  else:\n",
        "    return 'Not Accepted'\n",
        "      "
      ],
      "metadata": {
        "id": "C2C3fUd4Kcsy"
      },
      "execution_count": null,
      "outputs": []
    },
    {
      "cell_type": "code",
      "source": [
        "string = 'Github Challenge'"
      ],
      "metadata": {
        "id": "G5MNEhtVLWyZ"
      },
      "execution_count": null,
      "outputs": []
    },
    {
      "cell_type": "code",
      "source": [
        "string = 'aaoaao'"
      ],
      "metadata": {
        "id": "bKM9_xAmLZQ_"
      },
      "execution_count": null,
      "outputs": []
    },
    {
      "cell_type": "code",
      "source": [
        "String_with_Vowels(string)"
      ],
      "metadata": {
        "colab": {
          "base_uri": "https://localhost:8080/",
          "height": 36
        },
        "id": "UujVM83MEev5",
        "outputId": "f602dc66-d2ba-45a7-e677-10ff705f4cb5"
      },
      "execution_count": null,
      "outputs": [
        {
          "output_type": "execute_result",
          "data": {
            "text/plain": [
              "'Accepted'"
            ],
            "application/vnd.google.colaboratory.intrinsic+json": {
              "type": "string"
            }
          },
          "metadata": {},
          "execution_count": 264
        }
      ]
    },
    {
      "cell_type": "markdown",
      "source": [
        "# ***Day 13***"
      ],
      "metadata": {
        "id": "_tLuP7vALe8j"
      }
    },
    {
      "cell_type": "markdown",
      "source": [
        "Problem 1: Program for Removing ith Character from string.\n",
        "\n",
        "    Input: Code Challenge, K = 6\n",
        "    Output: Code Callenge\n"
      ],
      "metadata": {
        "id": "k4R3Z2FvLiW2"
      }
    },
    {
      "cell_type": "code",
      "source": [
        "string='Code Challenge'; K = 6"
      ],
      "metadata": {
        "id": "OAY4vbGCMAjD"
      },
      "execution_count": null,
      "outputs": []
    },
    {
      "cell_type": "code",
      "source": [
        "def Removing_ith_Character_from_string(string,K):\n",
        "  return string[:K]+string[K+1:]"
      ],
      "metadata": {
        "id": "ywJus2UwLUR-"
      },
      "execution_count": null,
      "outputs": []
    },
    {
      "cell_type": "code",
      "source": [
        "Removing_ith_Character_from_string(string,K)"
      ],
      "metadata": {
        "colab": {
          "base_uri": "https://localhost:8080/",
          "height": 36
        },
        "id": "0YkUrIteMTeJ",
        "outputId": "20f43f7d-276b-4b19-cb37-c04211cf5e3c"
      },
      "execution_count": null,
      "outputs": [
        {
          "output_type": "execute_result",
          "data": {
            "text/plain": [
              "'Code Callenge'"
            ],
            "application/vnd.google.colaboratory.intrinsic+json": {
              "type": "string"
            }
          },
          "metadata": {},
          "execution_count": 271
        }
      ]
    },
    {
      "cell_type": "markdown",
      "source": [
        "Problem 2: Program for Special Characters in string.\n",
        "\n",
        "    Input:  github@io\n",
        "    Output: Not Accepted\n",
        "    \n",
        "    \n",
        "    Input:  githubio\n",
        "    Output: Accepted\n"
      ],
      "metadata": {
        "id": "iJyxTwjOLrSm"
      }
    },
    {
      "cell_type": "code",
      "source": [
        ""
      ],
      "metadata": {
        "id": "pECr65j7MgKq"
      },
      "execution_count": null,
      "outputs": []
    },
    {
      "cell_type": "markdown",
      "source": [
        "Problem 3: Program for checking string is Binary or not.\n",
        "\n",
        "    Input: 123456\n",
        "    Output: Not a Binary\n",
        "    \n",
        "    \n",
        "    Input: 1011001011\n",
        "    Output: Binary\n"
      ],
      "metadata": {
        "id": "pDeOEvGALtnL"
      }
    },
    {
      "cell_type": "markdown",
      "source": [
        "Problem 4: Program to print all the words greater than given length.\n",
        "\n",
        "    Input: Hey! this is 100 Days of Code Challenge, N = 4\n",
        "    Output: Challenge\n"
      ],
      "metadata": {
        "id": "D8hFzJOsLvSB"
      }
    }
  ]
}